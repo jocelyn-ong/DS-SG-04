{
 "cells": [
  {
   "cell_type": "markdown",
   "metadata": {},
   "source": [
    "### NLP with ChannelNewsAsia Articles "
   ]
  },
  {
   "cell_type": "code",
   "execution_count": 1,
   "metadata": {
    "collapsed": true
   },
   "outputs": [],
   "source": [
    "from spacy.en import English\n",
    "nlp = English()"
   ]
  },
  {
   "cell_type": "markdown",
   "metadata": {},
   "source": [
    "### BeautifulSoup\n",
    "https://www.crummy.com/software/BeautifulSoup/bs4/doc/"
   ]
  },
  {
   "cell_type": "code",
   "execution_count": 2,
   "metadata": {
    "collapsed": true
   },
   "outputs": [],
   "source": [
    "from bs4 import BeautifulSoup\n",
    "import urllib2"
   ]
  },
  {
   "cell_type": "code",
   "execution_count": 3,
   "metadata": {
    "collapsed": true
   },
   "outputs": [],
   "source": [
    "def getSoupFromUrl(url):\n",
    "    req = urllib2.Request(url, headers={'User-Agent' : \"Chrome\"}) \n",
    "    con = urllib2.urlopen(req)\n",
    "    page = con.read()\n",
    "    soup = BeautifulSoup(page, \"lxml\")\n",
    "    con.close()\n",
    "    return soup"
   ]
  },
  {
   "cell_type": "code",
   "execution_count": null,
   "metadata": {
    "collapsed": true
   },
   "outputs": [],
   "source": [
    "'''\n",
    "# Sample code for scraping used\n",
    "base_url = 'http://www.channelnewsasia.com'\n",
    "articles = []\n",
    "num_pages = 2\n",
    "for i in range(num_pages):\n",
    "    url = 'http://www.channelnewsasia.com/archives/8396078/news?pageNum={}&channelId=7469254'.format(i)\n",
    "    soup = getSoupFromUrl(url)\n",
    "    print(\"..{}\".format(i))\n",
    "    for link in soup.find_all(\"div\", attrs={\"class\": \"c-result-section--default\"})[0].find_all(\"a\", attrs={\"class\":\"teaser__title\"}):\n",
    "        #print(base_url + link.get(\"href\"))\n",
    "        soup = getSoupFromUrl(base_url + link.get(\"href\"))\n",
    "        paras = soup.find_all(\"div\", attrs={\"class\":\"c-rte--article\"})[0].find_all(\"p\")\n",
    "        content = \" \".join([para.getText() for para in paras])\n",
    "        articles.append(content)\n",
    "'''"
   ]
  },
  {
   "cell_type": "code",
   "execution_count": 54,
   "metadata": {
    "collapsed": true
   },
   "outputs": [],
   "source": [
    "''' # Saving Articles\n",
    "filename = 'data/news.txt'\n",
    "file = codecs.open(filename, \"w\", \"utf-8\")\n",
    "for article in articles:\n",
    "    file.write(re.sub( '\\s+', ' ', article).strip() + '\\n')\n",
    "file.close()\n",
    "''' "
   ]
  },
  {
   "cell_type": "code",
   "execution_count": 2,
   "metadata": {
    "collapsed": true
   },
   "outputs": [],
   "source": [
    "import codecs"
   ]
  },
  {
   "cell_type": "code",
   "execution_count": 3,
   "metadata": {
    "collapsed": true
   },
   "outputs": [],
   "source": [
    "''' Reading Saved Articles'''\n",
    "filename = 'data/news.txt'\n",
    "articles = []\n",
    "for article in codecs.open(filename, 'r', encoding=\"utf-8\"):\n",
    "    articles.append(article)"
   ]
  },
  {
   "cell_type": "code",
   "execution_count": 4,
   "metadata": {},
   "outputs": [
    {
     "data": {
      "text/plain": [
       "10000"
      ]
     },
     "execution_count": 4,
     "metadata": {},
     "output_type": "execute_result"
    }
   ],
   "source": [
    "len(articles)"
   ]
  },
  {
   "cell_type": "markdown",
   "metadata": {},
   "source": [
    "### CountVectorizer"
   ]
  },
  {
   "cell_type": "code",
   "execution_count": 5,
   "metadata": {
    "collapsed": true
   },
   "outputs": [],
   "source": [
    "from sklearn.feature_extraction import text \n",
    "additional_stop_words = [\"singapore\", \"said\", \"mr\", \"want\", \"say\", \"year\"]\n",
    "stop_words = text.ENGLISH_STOP_WORDS.union(additional_stop_words)"
   ]
  },
  {
   "cell_type": "code",
   "execution_count": 6,
   "metadata": {
    "collapsed": true
   },
   "outputs": [],
   "source": [
    "from sklearn.feature_extraction.text import CountVectorizer\n",
    "cv = CountVectorizer(binary=False, stop_words=stop_words, min_df=3)\n",
    "articles_cv = cv.fit_transform(articles)"
   ]
  },
  {
   "cell_type": "markdown",
   "metadata": {},
   "source": [
    "### Gensim "
   ]
  },
  {
   "cell_type": "code",
   "execution_count": 7,
   "metadata": {
    "collapsed": true
   },
   "outputs": [],
   "source": [
    "id2word = dict(enumerate(cv.get_feature_names()))"
   ]
  },
  {
   "cell_type": "code",
   "execution_count": 8,
   "metadata": {
    "collapsed": true
   },
   "outputs": [],
   "source": [
    "from gensim.models.ldamodel import LdaModel\n",
    "from gensim.matutils import Sparse2Corpus\n",
    "\n",
    "# First we convert our word-matrix into gensim's format\n",
    "article_corpus = Sparse2Corpus(articles_cv, documents_columns = False)\n",
    "\n",
    "num_topics = 20\n",
    "\n",
    "# Then we fit an LDA model\n",
    "lda_model = LdaModel(corpus=article_corpus, id2word=id2word, num_topics=num_topics)"
   ]
  },
  {
   "cell_type": "code",
   "execution_count": 9,
   "metadata": {},
   "outputs": [
    {
     "name": "stdout",
     "output_type": "stream",
     "text": [
      "Topic: 0 \n",
      "(0, u'0.011*\"transport\" + 0.010*\"bus\" + 0.010*\"train\" + 0.009*\"smrt\" + 0.008*\"station\" + 0.007*\"line\" + 0.007*\"lta\" + 0.006*\"public\" + 0.005*\"commuters\" + 0.005*\"services\" + 0.005*\"new\" + 0.005*\"time\" + 0.005*\"trains\" + 0.004*\"service\" + 0.004*\"east\" + 0.004*\"stations\" + 0.004*\"rail\" + 0.004*\"transit\" + 0.004*\"mrt\" + 0.004*\"added\"')\n",
      "\n",
      "Topic: 1 \n",
      "(1, u'0.009*\"minister\" + 0.008*\"home\" + 0.007*\"ministry\" + 0.006*\"community\" + 0.006*\"care\" + 0.006*\"added\" + 0.005*\"dr\" + 0.005*\"health\" + 0.005*\"security\" + 0.005*\"public\" + 0.004*\"patients\" + 0.004*\"residents\" + 0.004*\"social\" + 0.004*\"singaporeans\" + 0.004*\"shanmugam\" + 0.004*\"children\" + 0.004*\"support\" + 0.004*\"lee\" + 0.003*\"affairs\" + 0.003*\"family\"')\n",
      "\n",
      "Topic: 2 \n",
      "(2, u'0.009*\"team\" + 0.006*\"tan\" + 0.005*\"football\" + 0.005*\"games\" + 0.005*\"time\" + 0.005*\"league\" + 0.004*\"added\" + 0.004*\"scdf\" + 0.004*\"national\" + 0.004*\"told\" + 0.004*\"facebook\" + 0.004*\"president\" + 0.003*\"sports\" + 0.003*\"years\" + 0.003*\"court\" + 0.003*\"players\" + 0.003*\"day\" + 0.003*\"athletes\" + 0.003*\"newsasia\" + 0.003*\"channel\"')\n",
      "\n",
      "Topic: 3 \n",
      "(3, u'0.007*\"town\" + 0.006*\"president\" + 0.006*\"court\" + 0.006*\"tan\" + 0.006*\"years\" + 0.005*\"public\" + 0.005*\"lift\" + 0.005*\"election\" + 0.005*\"victim\" + 0.004*\"girl\" + 0.004*\"jail\" + 0.004*\"bus\" + 0.004*\"old\" + 0.004*\"elected\" + 0.004*\"ms\" + 0.003*\"boy\" + 0.003*\"judge\" + 0.003*\"time\" + 0.003*\"months\" + 0.003*\"candidates\"')\n",
      "\n",
      "Topic: 4 \n",
      "(4, u'0.015*\"court\" + 0.008*\"yang\" + 0.008*\"council\" + 0.007*\"town\" + 0.007*\"ahtc\" + 0.005*\"lee\" + 0.005*\"public\" + 0.004*\"party\" + 0.004*\"added\" + 0.004*\"report\" + 0.003*\"statement\" + 0.003*\"appeal\" + 0.003*\"takagi\" + 0.003*\"general\" + 0.003*\"told\" + 0.003*\"accountants\" + 0.003*\"documents\" + 0.003*\"prosecution\" + 0.003*\"lawyer\" + 0.003*\"did\"')\n",
      "\n",
      "Topic: 5 \n",
      "(5, u'0.049*\"cent\" + 0.009*\"2015\" + 0.008*\"quarter\" + 0.007*\"prices\" + 0.006*\"month\" + 0.006*\"previous\" + 0.006*\"compared\" + 0.006*\"increase\" + 0.006*\"growth\" + 0.006*\"according\" + 0.005*\"2016\" + 0.005*\"oil\" + 0.005*\"fell\" + 0.005*\"million\" + 0.004*\"total\" + 0.004*\"higher\" + 0.004*\"non\" + 0.004*\"decline\" + 0.003*\"added\" + 0.003*\"survey\"')\n",
      "\n",
      "Topic: 6 \n",
      "(6, u'0.020*\"police\" + 0.009*\"road\" + 0.008*\"old\" + 0.006*\"car\" + 0.006*\"arrested\" + 0.006*\"man\" + 0.006*\"000\" + 0.005*\"added\" + 0.005*\"officers\" + 0.005*\"investigations\" + 0.004*\"release\" + 0.004*\"cases\" + 0.004*\"accident\" + 0.004*\"traffic\" + 0.004*\"public\" + 0.004*\"years\" + 0.004*\"jan\" + 0.004*\"jail\" + 0.004*\"authority\" + 0.003*\"case\"')\n",
      "\n",
      "Topic: 7 \n",
      "(7, u'0.015*\"china\" + 0.013*\"minister\" + 0.012*\"lee\" + 0.010*\"asean\" + 0.010*\"countries\" + 0.008*\"asia\" + 0.007*\"trade\" + 0.007*\"region\" + 0.007*\"economic\" + 0.007*\"prime\" + 0.005*\"world\" + 0.005*\"dr\" + 0.004*\"regional\" + 0.004*\"added\" + 0.004*\"president\" + 0.004*\"japan\" + 0.004*\"new\" + 0.004*\"cooperation\" + 0.004*\"international\" + 0.004*\"foreign\"')\n",
      "\n",
      "Topic: 8 \n",
      "(8, u'0.009*\"zika\" + 0.009*\"dengue\" + 0.006*\"cases\" + 0.006*\"mosquito\" + 0.006*\"virus\" + 0.006*\"nea\" + 0.005*\"world\" + 0.005*\"old\" + 0.004*\"photo\" + 0.004*\"like\" + 0.004*\"time\" + 0.004*\"breeding\" + 0.004*\"national\" + 0.004*\"mediacorp\" + 0.003*\"people\" + 0.003*\"reported\" + 0.003*\"week\" + 0.003*\"just\" + 0.003*\"added\" + 0.003*\"women\"')\n",
      "\n",
      "Topic: 9 \n",
      "(9, u'0.005*\"premiums\" + 0.005*\"cars\" + 0.004*\"category\" + 0.004*\"insurance\" + 0.004*\"000\" + 0.004*\"exercise\" + 0.003*\"used\" + 0.003*\"work\" + 0.003*\"people\" + 0.003*\"years\" + 0.003*\"like\" + 0.003*\"coes\" + 0.003*\"new\" + 0.003*\"loanshark\" + 0.003*\"time\" + 0.003*\"business\" + 0.003*\"vehicles\" + 0.003*\"added\" + 0.002*\"closed\" + 0.002*\"coe\"')\n",
      "\n",
      "Topic: 10 \n",
      "(10, u'0.011*\"minister\" + 0.008*\"mfa\" + 0.007*\"singaporeans\" + 0.007*\"government\" + 0.006*\"ministry\" + 0.006*\"people\" + 0.006*\"support\" + 0.006*\"foreign\" + 0.005*\"chan\" + 0.005*\"heng\" + 0.005*\"affairs\" + 0.005*\"security\" + 0.005*\"dr\" + 0.005*\"help\" + 0.004*\"added\" + 0.004*\"members\" + 0.003*\"need\" + 0.003*\"prime\" + 0.003*\"public\" + 0.003*\"office\"')\n",
      "\n",
      "Topic: 11 \n",
      "(11, u'0.009*\"food\" + 0.007*\"new\" + 0.006*\"added\" + 0.005*\"help\" + 0.005*\"000\" + 0.004*\"health\" + 0.004*\"companies\" + 0.004*\"work\" + 0.004*\"public\" + 0.004*\"national\" + 0.003*\"services\" + 0.003*\"minister\" + 0.003*\"service\" + 0.003*\"programme\" + 0.003*\"drivers\" + 0.003*\"development\" + 0.003*\"company\" + 0.003*\"industry\" + 0.003*\"announced\" + 0.003*\"government\"')\n",
      "\n",
      "Topic: 12 \n",
      "(12, u'0.016*\"water\" + 0.005*\"added\" + 0.004*\"national\" + 0.004*\"new\" + 0.004*\"ava\" + 0.003*\"nea\" + 0.003*\"animals\" + 0.003*\"students\" + 0.003*\"public\" + 0.003*\"time\" + 0.003*\"area\" + 0.003*\"agency\" + 0.003*\"environment\" + 0.003*\"ida\" + 0.003*\"park\" + 0.003*\"pub\" + 0.003*\"nature\" + 0.003*\"university\" + 0.003*\"days\" + 0.002*\"like\"')\n",
      "\n",
      "Topic: 13 \n",
      "(13, u'0.006*\"minister\" + 0.005*\"dr\" + 0.005*\"people\" + 0.004*\"time\" + 0.004*\"new\" + 0.004*\"photo\" + 0.004*\"lee\" + 0.004*\"national\" + 0.004*\"defence\" + 0.004*\"tan\" + 0.003*\"film\" + 0.003*\"years\" + 0.003*\"like\" + 0.003*\"president\" + 0.003*\"added\" + 0.003*\"community\" + 0.003*\"singaporeans\" + 0.003*\"world\" + 0.003*\"international\" + 0.003*\"visit\"')\n",
      "\n",
      "Topic: 14 \n",
      "(14, u'0.018*\"parliament\" + 0.012*\"lee\" + 0.010*\"minister\" + 0.009*\"government\" + 0.008*\"dr\" + 0.007*\"mp\" + 0.007*\"party\" + 0.005*\"public\" + 0.005*\"added\" + 0.005*\"prime\" + 0.004*\"mps\" + 0.004*\"chee\" + 0.004*\"members\" + 0.004*\"ms\" + 0.004*\"opposition\" + 0.004*\"political\" + 0.003*\"commission\" + 0.003*\"teo\" + 0.003*\"ncmp\" + 0.003*\"president\"')\n",
      "\n",
      "Topic: 15 \n",
      "(15, u'0.012*\"new\" + 0.006*\"students\" + 0.005*\"added\" + 0.005*\"million\" + 0.005*\"000\" + 0.004*\"company\" + 0.004*\"years\" + 0.003*\"retail\" + 0.003*\"development\" + 0.003*\"sales\" + 0.003*\"cent\" + 0.003*\"start\" + 0.003*\"ms\" + 0.003*\"space\" + 0.003*\"business\" + 0.003*\"school\" + 0.003*\"units\" + 0.003*\"design\" + 0.002*\"according\" + 0.002*\"launched\"')\n",
      "\n",
      "Topic: 16 \n",
      "(16, u'0.006*\"financial\" + 0.005*\"bank\" + 0.004*\"university\" + 0.004*\"mas\" + 0.004*\"added\" + 0.003*\"nus\" + 0.003*\"national\" + 0.003*\"years\" + 0.003*\"programme\" + 0.003*\"products\" + 0.003*\"companies\" + 0.003*\"online\" + 0.003*\"new\" + 0.002*\"business\" + 0.002*\"development\" + 0.002*\"activities\" + 0.002*\"singpost\" + 0.002*\"hsa\" + 0.002*\"industry\" + 0.002*\"training\"')\n",
      "\n",
      "Topic: 17 \n",
      "(17, u'0.007*\"cent\" + 0.007*\"workers\" + 0.007*\"think\" + 0.006*\"people\" + 0.006*\"government\" + 0.005*\"time\" + 0.005*\"years\" + 0.005*\"business\" + 0.005*\"just\" + 0.004*\"need\" + 0.004*\"don\" + 0.004*\"like\" + 0.004*\"market\" + 0.004*\"economy\" + 0.004*\"make\" + 0.004*\"work\" + 0.004*\"going\" + 0.003*\"growth\" + 0.003*\"bharati\" + 0.003*\"lot\"')\n",
      "\n",
      "Topic: 18 \n",
      "(18, u'0.009*\"industry\" + 0.008*\"technology\" + 0.008*\"new\" + 0.007*\"data\" + 0.006*\"companies\" + 0.005*\"sector\" + 0.005*\"energy\" + 0.004*\"added\" + 0.004*\"services\" + 0.004*\"air\" + 0.004*\"million\" + 0.004*\"business\" + 0.004*\"sia\" + 0.004*\"research\" + 0.004*\"airport\" + 0.003*\"global\" + 0.003*\"group\" + 0.003*\"growth\" + 0.003*\"development\" + 0.003*\"aircraft\"')\n",
      "\n",
      "Topic: 19 \n",
      "(19, u'0.012*\"think\" + 0.011*\"people\" + 0.007*\"just\" + 0.007*\"school\" + 0.007*\"bharati\" + 0.006*\"like\" + 0.005*\"need\" + 0.005*\"time\" + 0.005*\"years\" + 0.005*\"don\" + 0.004*\"make\" + 0.004*\"students\" + 0.004*\"really\" + 0.004*\"things\" + 0.004*\"way\" + 0.004*\"work\" + 0.004*\"lee\" + 0.004*\"know\" + 0.004*\"children\" + 0.004*\"family\"')\n",
      "\n"
     ]
    }
   ],
   "source": [
    "num_words_per_topic = 20\n",
    "for ti, topic in enumerate(lda_model.show_topics(num_topics = num_topics, num_words = num_words_per_topic)):\n",
    "    print(\"Topic: {} \\n{}\\n\".format(ti, topic))"
   ]
  },
  {
   "cell_type": "code",
   "execution_count": 10,
   "metadata": {},
   "outputs": [
    {
     "name": "stdout",
     "output_type": "stream",
     "text": [
      "Row: 0 Topics: [(2, 0.94313617391685223), (16, 0.048125961859806464)]\n",
      "Row: 1 Topics: [(0, 0.031871984987507693), (1, 0.23459731247521295), (8, 0.17779529384003226), (11, 0.039186833898108717), (15, 0.048638803702314042), (17, 0.020255652862940992), (19, 0.44557744087899009)]\n",
      "Row: 2 Topics: [(1, 0.016597708647520384), (2, 0.042576130111019322), (3, 0.073125853536057425), (8, 0.27839679528899625), (16, 0.010802079899069719), (19, 0.54248207871863685)]\n",
      "Row: 3 Topics: [(7, 0.45772551756543089), (17, 0.29473828177912054), (18, 0.086638222211567958), (19, 0.15732654980537428)]\n",
      "Row: 4 Topics: [(1, 0.041990253567746397), (2, 0.10728189329430193), (13, 0.77212659601106581), (17, 0.073569810489947804)]\n",
      "Row: 5 Topics: [(2, 0.6628202643727531), (7, 0.28464405726638531), (16, 0.039656890246462878)]\n",
      "Row: 6 Topics: [(2, 0.42123228736234891), (4, 0.15820640109673589), (7, 0.025325549970156298), (13, 0.093951677288616878), (19, 0.29821031372634998)]\n",
      "Row: 7 Topics: [(2, 0.026742459170311525), (3, 0.068716815044394988), (5, 0.19863331590903879), (7, 0.19825256379184708), (9, 0.011326365314579742), (11, 0.01952336563817892), (13, 0.037439793124795798), (15, 0.40489615185126765), (19, 0.032056889400714217)]\n",
      "Row: 8 Topics: [(7, 0.96442098768892581), (10, 0.027397193960736057)]\n",
      "Row: 9 Topics: [(7, 0.91801559438733549), (9, 0.018833108236595758), (10, 0.03243836028840856)]\n",
      "Row: 10 Topics: [(1, 0.12440586952716888), (5, 0.19129301553759956), (17, 0.44553672923633586), (19, 0.22924148105996153)]\n",
      "Row: 11 Topics: [(7, 0.34977665749401038), (10, 0.40228438672612821), (13, 0.093248869036971826), (18, 0.14505153240391921)]\n"
     ]
    }
   ],
   "source": [
    "for num, doc_topics in enumerate(lda_model.get_document_topics(article_corpus)):\n",
    "    print(\"Row: {} Topics: {}\".format(num, doc_topics))\n",
    "    if num > 10:\n",
    "        break"
   ]
  },
  {
   "cell_type": "code",
   "execution_count": 11,
   "metadata": {},
   "outputs": [
    {
     "name": "stdout",
     "output_type": "stream",
     "text": [
      "HAMBURG, Germany: Singapore and Japan have expressed their continued support to explore ways to continue with the Trans-Pacific Partnership (TPP), when the prime ministers of both countries met on the sidelines of the G20 Leaders' Summit on Saturday (Jul 8).  Prime Minister Lee Hsien Loong and his Japanese counterpart Shinzo Abe also exchanged views on developments on the Korean Peninsula. \"PM Lee expressed Singapore’s grave concerns over the escalating tensions which could jeopardise the peace and stability of the region,\" said a statement from the Prime Minister's Office (PMO). Both leaders also looked forward to further enhancing bilateral cooperation and noted \"with satisfaction\" that Singapore and Japan successfully held events to celebrate 50 years of diplomatic relations last year. \"Japan is ready to further develop our cooperative relationship with Singapore towards the next 50 years,\" said Mr Abe. The two leaders also discussed the Kuala Lumpur-Singapore High Speed Rail and PM Lee welcomed Japan's interest to bid for the project.  It was a day of bilateral meetings for PM Lee which culminated in his first face-to-face encounter with US President Donald Trump. Earlier, PM Lee held his first bilateral meeting with Argentine President Mauricio Macri who accepted an invitation to make a state visit to Singapore in 2018. They welcomed the enhanced engagement between Singapore and Argentina, including the re-opening of the Argentine Embassy in Singapore later this year, said the PMO. It added that PM Lee and Mr Macri reaffirmed their commitment to strengthen bilateral cooperation in trade and investment facilitation, skills, food security, education, and technology and digitalisation.  Given that Argentina will assume the G20 presidency in 2018 while Singapore prepares to take the ASEAN chair next year, both sides agreed that there are opportunities for further cooperation. After speaking with Mr Macri, PM Lee met the President of the European Council Donald Tusk and President of the European Commission Jean-Claude Juncker, in what the PMO described as a fruitful meeting. They reiterated their support for an early ratification of the EU-Singapore Free Trade Agreement (EUSFTA). Negotiations for the free trade deal first began in 2009 and were completed in 2014. However, the top EU court ruled in May that it cannot fully enter force until ratified by all EU countries. The free trade deal will \"greatly benefit our businesses and further deepen our ties,\" said the PMO. \"Both sides supported an early ratification of the EUSFTA.\"\n",
      "\n"
     ]
    }
   ],
   "source": [
    "print(articles[9])"
   ]
  },
  {
   "cell_type": "code",
   "execution_count": 12,
   "metadata": {
    "collapsed": true
   },
   "outputs": [],
   "source": [
    "import numpy as np\n",
    "doc_topics_array = np.zeros([len(articles), num_topics])"
   ]
  },
  {
   "cell_type": "code",
   "execution_count": 13,
   "metadata": {},
   "outputs": [
    {
     "data": {
      "text/plain": [
       "array([[ 0.,  0.,  0., ...,  0.,  0.,  0.],\n",
       "       [ 0.,  0.,  0., ...,  0.,  0.,  0.],\n",
       "       [ 0.,  0.,  0., ...,  0.,  0.,  0.],\n",
       "       ..., \n",
       "       [ 0.,  0.,  0., ...,  0.,  0.,  0.],\n",
       "       [ 0.,  0.,  0., ...,  0.,  0.,  0.],\n",
       "       [ 0.,  0.,  0., ...,  0.,  0.,  0.]])"
      ]
     },
     "execution_count": 13,
     "metadata": {},
     "output_type": "execute_result"
    }
   ],
   "source": [
    "doc_topics_array"
   ]
  },
  {
   "cell_type": "code",
   "execution_count": 14,
   "metadata": {
    "collapsed": true
   },
   "outputs": [],
   "source": [
    "for doc_num, doc_topics in enumerate(lda_model.get_document_topics(article_corpus)):\n",
    "    for topic in doc_topics:\n",
    "        doc_topics_array[doc_num, topic[0]] = topic[1]"
   ]
  },
  {
   "cell_type": "code",
   "execution_count": 15,
   "metadata": {},
   "outputs": [
    {
     "data": {
      "text/plain": [
       "(10000, 20)"
      ]
     },
     "execution_count": 15,
     "metadata": {},
     "output_type": "execute_result"
    }
   ],
   "source": [
    "doc_topics_array.shape"
   ]
  },
  {
   "cell_type": "code",
   "execution_count": 16,
   "metadata": {
    "collapsed": true
   },
   "outputs": [],
   "source": [
    "from scipy import spatial\n",
    "tree = spatial.KDTree(doc_topics_array)"
   ]
  },
  {
   "cell_type": "code",
   "execution_count": 17,
   "metadata": {},
   "outputs": [
    {
     "data": {
      "text/plain": [
       "(array([ 0.        ,  0.13329878,  0.13538154,  0.13680232,  0.14843561]),\n",
       " array([ 200, 9474, 9993, 4131,  930]))"
      ]
     },
     "execution_count": 17,
     "metadata": {},
     "output_type": "execute_result"
    }
   ],
   "source": [
    "tree.query(doc_topics_array[200], k=5)"
   ]
  },
  {
   "cell_type": "code",
   "execution_count": 18,
   "metadata": {},
   "outputs": [
    {
     "data": {
      "text/plain": [
       "array([ 0.        ,  0.        ,  0.33021903,  0.18812824,  0.11019738,\n",
       "        0.        ,  0.17764187,  0.        ,  0.        ,  0.01131917,\n",
       "        0.        ,  0.        ,  0.        ,  0.        ,  0.        ,\n",
       "        0.        ,  0.        ,  0.        ,  0.        ,  0.18036016])"
      ]
     },
     "execution_count": 18,
     "metadata": {},
     "output_type": "execute_result"
    }
   ],
   "source": [
    "doc_topics_array[200]"
   ]
  },
  {
   "cell_type": "code",
   "execution_count": 23,
   "metadata": {},
   "outputs": [
    {
     "name": "stdout",
     "output_type": "stream",
     "text": [
      "SINGAPORE: The day he was released from prison for stalking his ex-boyfriend, Tan Boon Wah turned up at his doorstep, ringing the doorbell and loitering around the area in an attempt to make contact again. The victim called the police, and he was subsequently arrested. Tan was on Wednesday (May 17) jailed nine months for unlawfully stalking the victim on at least two occasions from October to December 2016, after his release from prison on Oct 1. He had already been sentenced to six months’ jail in August last year for unlawfully stalking his ex-boyfriend for a year, in what prosecutors called a “suffocating” intrusion into the victim’s life. Tan harassed his former boyfriend, then a 22-year-old full-time National Serviceman, every day from May 2015 until May 2016: \"I WON'T GIVE UP ... NOT EVEN IF I'M THROWN IN JAIL\" When he was not physically stalking the victim, Tan harassed him via email or would call him incessantly. In one day, the victim received up to 1,408 calls from Tan. In an email to the victim on Aug 18, 2015, Tan said: “I’m sure u’ll be tired out by this soon. But I won’t ever give up trying to find u … not in this life. Not even if I get thrown into jail. I’d rather be dead … than to give up trying to look for u or trying to be friends with u. (You’re) gonna be stuck with dealing with me for life.” In a separate email on Feb 29, 2016, Tan sent the victim two nude photographs he had taken of him, without his consent, during their relationship. Tan wanted to blackmail the victim and force him to reply to his emails. The victim lodged a total of 22 police reports in the year he was stalked by Tan. He also changed his phone number repeatedly and subscribed to a second phone line in attempts to shake Tan off, but was unsuccessful. This was because Tan called Singtel to ask for the victim’s new phone number, and got it when he provided the latter’s NRIC number and other personal particulars. For this, Tan faced a charged under the Personal Data Protection Act. AN \"OMINOUS\" WARNING He was finally arrested on Mar 30, 2016. and remanded at the Institute of Mental Health. Psychiatrist Dr Stephen Phang said Tan was fit to plead and not of unsound mind. The psychiatrist’s report also contained a warning: “It is manifestly apparent that (Tan’s) recurrent attempts to contact and communicate with the alleged victim, as well as his self-declared admission that he would seek out the other party (immediately upon his release) … should necessarily be regarded in a somewhat ominous light, as the possibility of future harm to the other party cannot be safely excluded.” The psychiatrist was proven right. COME TO YOUR SENSES, ACCEPT COUNSELLING: JUDGE Upon his release from prison on Oct 1, Tan went straight to his ex’s flat. The man called the police, who told Tan to leave. But he refused, and when he was spotted still loitering in the area nearly two hours later, the victim called the police again. Tan was arrested. Out on bail, Tan continued to harass his ex-boyfriend of four years by loitering outside his flat, ringing the doorbell and following him each time he left the house, pestering the victim to unblock him on social media. Tan was arrested again on Dec 8. Denied bail, he spent Christmas in jail. In January 2017, after he had been released on bail, Tan posted links to videos of the victim on an online forum, also commenting publicly about his ongoing case. In court on Wednesday, District Judge Kenneth Yap said it is “clear” Tan is not remorseful. He pointed to a letter Tan submitted to the court, in which he stated his desire to see the victim again. “You are clearly not getting the message,” Judge Yap said. He made Tan promise “never to see the victim or bother him again”. After a moment’s pause, Tan grudgingly replied: “I will undertake that.” Deputy Public Prosecutor Jason Chua called for a nine-month jail term, saying Tan’s previous six-month term did nothing to deter him.   Judge Yap agreed, but urged DPP Chua to make arrangements with the prison service to provide counselling to Tan. “This is the best way to solve the issue”, the judge said. He told Tan to “come to your senses. Relationships start and relationships end. If you don’t face the truth, you will cause yourself, and the victim, greater damage”. The judge also ordered Tan to serve the remaining 60 days of his previous six-month stint, making a total jail term of nine months and 60 days. The victim was present in court, and seen leaving in a huff after Tan was sentenced. For each charge of unlawful stalking, Tan could have been jailed up to two years and/or fined up to S$10,000.\n",
      "\n"
     ]
    }
   ],
   "source": [
    "print(articles[930])"
   ]
  },
  {
   "cell_type": "markdown",
   "metadata": {},
   "source": [
    "### Word2Vec "
   ]
  },
  {
   "cell_type": "code",
   "execution_count": 24,
   "metadata": {
    "collapsed": true
   },
   "outputs": [],
   "source": [
    "text = [x.split() for x in articles]"
   ]
  },
  {
   "cell_type": "code",
   "execution_count": 25,
   "metadata": {
    "collapsed": true
   },
   "outputs": [],
   "source": [
    "from gensim.models import Word2Vec\n",
    "model = Word2Vec(text, size=100, window=5, min_count=5, workers=4)"
   ]
  },
  {
   "cell_type": "code",
   "execution_count": 30,
   "metadata": {},
   "outputs": [
    {
     "data": {
      "text/plain": [
       "[(u'opposition', 0.786681592464447),\n",
       " (u'SDP', 0.7367699146270752),\n",
       " (u'Party', 0.7248833775520325),\n",
       " (u'FAS', 0.6891103386878967),\n",
       " (u'House', 0.6889873743057251),\n",
       " (u'WP', 0.6832637190818787),\n",
       " (u'Cabinet', 0.6769022941589355),\n",
       " (u'candidate', 0.6729015111923218),\n",
       " (u\"Workers'\", 0.6587272882461548),\n",
       " (u'President', 0.6578125357627869)]"
      ]
     },
     "execution_count": 30,
     "metadata": {},
     "output_type": "execute_result"
    }
   ],
   "source": [
    "model.most_similar(positive=['PAP'])"
   ]
  },
  {
   "cell_type": "code",
   "execution_count": 28,
   "metadata": {},
   "outputs": [
    {
     "data": {
      "text/plain": [
       "[(u'flats', 0.748914361000061),\n",
       " (u'2-room', 0.6920130848884583),\n",
       " (u'non-mature', 0.6850610971450806),\n",
       " (u'Flexi', 0.685046374797821),\n",
       " (u'BTO', 0.6770901083946228),\n",
       " (u'flats,', 0.6729371547698975),\n",
       " (u'resale', 0.6695283651351929),\n",
       " (u'two-room', 0.6662867069244385),\n",
       " (u'(BTO)', 0.6644257307052612),\n",
       " (u'rental', 0.6583526134490967)]"
      ]
     },
     "execution_count": 28,
     "metadata": {},
     "output_type": "execute_result"
    }
   ],
   "source": [
    "model.most_similar(positive=['HDB'])"
   ]
  },
  {
   "cell_type": "markdown",
   "metadata": {},
   "source": [
    "### Scapy "
   ]
  },
  {
   "cell_type": "code",
   "execution_count": 105,
   "metadata": {
    "collapsed": true
   },
   "outputs": [],
   "source": [
    "from collections import Counter\n",
    "c = Counter()\n",
    "for i, article in enumerate(articles):\n",
    "    parsed_article = nlp(article)\n",
    "    c.update([ent.text for ent in parsed_article.ents if ent.label_ == \"PERSON\" or ent.label_ == \"ORG\"])"
   ]
  },
  {
   "cell_type": "code",
   "execution_count": 106,
   "metadata": {},
   "outputs": [
    {
     "data": {
      "text/plain": [
       "[(u'Mr Lee', 2294),\n",
       " (u'Channel NewsAsia', 2019),\n",
       " (u'Parliament', 1876),\n",
       " (u'Jan', 1338),\n",
       " (u'Jun', 1304),\n",
       " (u'Mar', 1286),\n",
       " (u'NEA', 1105),\n",
       " (u'LTA', 1064),\n",
       " (u'SMRT', 978),\n",
       " (u'HDB', 832),\n",
       " (u'MAS', 779),\n",
       " (u'Lee Hsien Loong', 768),\n",
       " (u'Lee', 762),\n",
       " (u'Bharati', 708),\n",
       " (u'SCDF', 704),\n",
       " (u'ASEAN', 612),\n",
       " (u'State', 589),\n",
       " (u'Mr Lim', 574),\n",
       " (u'Tan', 557),\n",
       " (u'AVA', 540),\n",
       " (u'Lim', 522),\n",
       " (u'MOH', 513),\n",
       " (u'Dr Tan', 498),\n",
       " (u'Yang', 496),\n",
       " (u'PM Lee', 457),\n",
       " (u'Mr Teo', 438),\n",
       " (u'Mr Tan', 435),\n",
       " (u'Bharati Jagdish', 433),\n",
       " (u'MFA', 432),\n",
       " (u'NUS', 423),\n",
       " (u'MOE', 422),\n",
       " (u'Dr Ng', 417),\n",
       " (u'MOM', 401),\n",
       " (u'SIA', 398),\n",
       " (u'Mr Wong', 393),\n",
       " (u'Mediacorp', 385),\n",
       " (u'Mr Ng', 377),\n",
       " (u'NTU', 373),\n",
       " (u'MP', 353),\n",
       " (u'Mr Ong', 351),\n",
       " (u'Facebook', 344),\n",
       " (u'Mr Shanmugam', 325),\n",
       " (u'NTUC', 325),\n",
       " (u'ICA', 321),\n",
       " (u'Budget', 320),\n",
       " (u'DPP', 319),\n",
       " (u'Dr Balakrishnan', 318),\n",
       " (u'MINDEF', 317),\n",
       " (u'Mr Nathan', 317),\n",
       " (u'SPF', 315)]"
      ]
     },
     "execution_count": 106,
     "metadata": {},
     "output_type": "execute_result"
    }
   ],
   "source": [
    "c.most_common(50)"
   ]
  }
 ],
 "metadata": {
  "anaconda-cloud": {},
  "kernelspec": {
   "display_name": "Python [python2]",
   "language": "python",
   "name": "Python [python2]"
  },
  "language_info": {
   "codemirror_mode": {
    "name": "ipython",
    "version": 2
   },
   "file_extension": ".py",
   "mimetype": "text/x-python",
   "name": "python",
   "nbconvert_exporter": "python",
   "pygments_lexer": "ipython2",
   "version": "2.7.13"
  }
 },
 "nbformat": 4,
 "nbformat_minor": 2
}
