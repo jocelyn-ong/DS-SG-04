{
 "cells": [
  {
   "cell_type": "code",
   "execution_count": 1,
   "metadata": {
    "collapsed": true
   },
   "outputs": [],
   "source": [
    "import pandas as pd\n",
    "import numpy as np\n",
    "from urllib2 import Request, urlopen\n",
    "import json\n",
    "import matplotlib.pyplot as plt\n",
    "import seaborn as sb\n",
    "%matplotlib inline"
   ]
  },
  {
   "cell_type": "markdown",
   "metadata": {},
   "source": [
    "### Sample code for collecting post data from Facebook "
   ]
  },
  {
   "cell_type": "code",
   "execution_count": 2,
   "metadata": {
    "collapsed": true
   },
   "outputs": [],
   "source": [
    "def getUrlJson(url):\n",
    "    request = Request(url, headers={'User-Agent' : \"Chrome\"})\n",
    "    response = urlopen(request)\n",
    "    result = response.read().decode('utf-8')\n",
    "    res_json = json.loads(result)\n",
    "    return res_json"
   ]
  },
  {
   "cell_type": "code",
   "execution_count": 3,
   "metadata": {
    "collapsed": true
   },
   "outputs": [],
   "source": [
    "page_id = 'leehsienloong'\n",
    "fields = [\"shares\", \"story\", \"message\", \"status_type\", \"created_time\"]\n",
    "token = '2031478377138497|7I-9i_f_CU_TMkXpLDLN_cdl8Y0'"
   ]
  },
  {
   "cell_type": "code",
   "execution_count": 4,
   "metadata": {
    "collapsed": true
   },
   "outputs": [],
   "source": [
    "def retrieveFacebookPosts(page_id, token, fields, num_pages):\n",
    "    i = 0\n",
    "    url = 'https://graph.facebook.com/{}/posts?access_token={}&fields={}'.format(page_id, token, (\",\").join(fields))\n",
    "    results = pd.DataFrame()\n",
    "    while True:\n",
    "        i += 1\n",
    "        res_json = getUrlJson(url)\n",
    "        result = pd.read_json(json.dumps(res_json['data']))\n",
    "        #result = pd.io.json.json_normalize(res_json['data'])\n",
    "        results = results.append(result)\n",
    "        try:\n",
    "            url = res_json['paging']['next']\n",
    "            # print(url)\n",
    "        except KeyError:\n",
    "            print(\"no more posts\")\n",
    "            break\n",
    "        if i >= num_pages:\n",
    "            print(\"stopping on provided limit\")\n",
    "            break\n",
    "    return results"
   ]
  },
  {
   "cell_type": "code",
   "execution_count": 5,
   "metadata": {},
   "outputs": [],
   "source": [
    "#lhl_posts = retrieveFacebookPosts('leehsienloong', token, fields, 1000)"
   ]
  },
  {
   "cell_type": "code",
   "execution_count": 6,
   "metadata": {
    "collapsed": true
   },
   "outputs": [],
   "source": [
    "#lhl_posts['share_count'] = lhl_posts['shares'].apply(lambda x: x['count'] if type(x) is dict else x)\n",
    "#del lhl_posts['shares']"
   ]
  },
  {
   "cell_type": "code",
   "execution_count": 7,
   "metadata": {
    "collapsed": true
   },
   "outputs": [],
   "source": [
    "#lhl_posts.to_json(\"data/facebook.json\", orient=\"records\", date_format=\"iso\")"
   ]
  },
  {
   "cell_type": "markdown",
   "metadata": {},
   "source": [
    "### Lab Exercise \n",
    "#### Reading and viewing the dataset"
   ]
  },
  {
   "cell_type": "code",
   "execution_count": 8,
   "metadata": {
    "collapsed": true
   },
   "outputs": [],
   "source": [
    "fb = pd.read_json(\"data/facebook.json\")"
   ]
  },
  {
   "cell_type": "code",
   "execution_count": 9,
   "metadata": {},
   "outputs": [
    {
     "data": {
      "text/html": [
       "<div>\n",
       "<style>\n",
       "    .dataframe thead tr:only-child th {\n",
       "        text-align: right;\n",
       "    }\n",
       "\n",
       "    .dataframe thead th {\n",
       "        text-align: left;\n",
       "    }\n",
       "\n",
       "    .dataframe tbody tr th {\n",
       "        vertical-align: top;\n",
       "    }\n",
       "</style>\n",
       "<table border=\"1\" class=\"dataframe\">\n",
       "  <thead>\n",
       "    <tr style=\"text-align: right;\">\n",
       "      <th></th>\n",
       "      <th>created_time</th>\n",
       "      <th>id</th>\n",
       "      <th>message</th>\n",
       "      <th>share_count</th>\n",
       "      <th>status_type</th>\n",
       "      <th>story</th>\n",
       "    </tr>\n",
       "  </thead>\n",
       "  <tbody>\n",
       "    <tr>\n",
       "      <th>0</th>\n",
       "      <td>2017-07-22 12:08:26</td>\n",
       "      <td>125845680811480_1549087385153962</td>\n",
       "      <td>The Central Singapore Community Development Co...</td>\n",
       "      <td>54.0</td>\n",
       "      <td>added_photos</td>\n",
       "      <td>Lee Hsien Loong added 2 new photos to the albu...</td>\n",
       "    </tr>\n",
       "    <tr>\n",
       "      <th>1</th>\n",
       "      <td>2017-07-21 01:00:00</td>\n",
       "      <td>125845680811480_1547453581984009</td>\n",
       "      <td>In many ways, racial harmony is like making mu...</td>\n",
       "      <td>103.0</td>\n",
       "      <td>added_photos</td>\n",
       "      <td>None</td>\n",
       "    </tr>\n",
       "    <tr>\n",
       "      <th>2</th>\n",
       "      <td>2017-07-20 02:03:51</td>\n",
       "      <td>125845680811480_1546478675414833</td>\n",
       "      <td>Race, language, and religion are fault lines t...</td>\n",
       "      <td>170.0</td>\n",
       "      <td>added_photos</td>\n",
       "      <td>Lee Hsien Loong added 9 new photos to the albu...</td>\n",
       "    </tr>\n",
       "    <tr>\n",
       "      <th>3</th>\n",
       "      <td>2017-07-19 02:03:34</td>\n",
       "      <td>125845680811480_1545406252188742</td>\n",
       "      <td>Puan Noor Aishah was only 26 when her husband,...</td>\n",
       "      <td>120.0</td>\n",
       "      <td>added_photos</td>\n",
       "      <td>Lee Hsien Loong added 3 new photos to the albu...</td>\n",
       "    </tr>\n",
       "    <tr>\n",
       "      <th>4</th>\n",
       "      <td>2017-07-18 14:21:53</td>\n",
       "      <td>125845680811480_1544866842242683</td>\n",
       "      <td>Spent a fun morning visiting two preschools in...</td>\n",
       "      <td>338.0</td>\n",
       "      <td>added_video</td>\n",
       "      <td>None</td>\n",
       "    </tr>\n",
       "  </tbody>\n",
       "</table>\n",
       "</div>"
      ],
      "text/plain": [
       "         created_time                                id  \\\n",
       "0 2017-07-22 12:08:26  125845680811480_1549087385153962   \n",
       "1 2017-07-21 01:00:00  125845680811480_1547453581984009   \n",
       "2 2017-07-20 02:03:51  125845680811480_1546478675414833   \n",
       "3 2017-07-19 02:03:34  125845680811480_1545406252188742   \n",
       "4 2017-07-18 14:21:53  125845680811480_1544866842242683   \n",
       "\n",
       "                                             message  share_count  \\\n",
       "0  The Central Singapore Community Development Co...         54.0   \n",
       "1  In many ways, racial harmony is like making mu...        103.0   \n",
       "2  Race, language, and religion are fault lines t...        170.0   \n",
       "3  Puan Noor Aishah was only 26 when her husband,...        120.0   \n",
       "4  Spent a fun morning visiting two preschools in...        338.0   \n",
       "\n",
       "    status_type                                              story  \n",
       "0  added_photos  Lee Hsien Loong added 2 new photos to the albu...  \n",
       "1  added_photos                                               None  \n",
       "2  added_photos  Lee Hsien Loong added 9 new photos to the albu...  \n",
       "3  added_photos  Lee Hsien Loong added 3 new photos to the albu...  \n",
       "4   added_video                                               None  "
      ]
     },
     "execution_count": 9,
     "metadata": {},
     "output_type": "execute_result"
    }
   ],
   "source": [
    "fb.head()"
   ]
  },
  {
   "cell_type": "code",
   "execution_count": 10,
   "metadata": {},
   "outputs": [
    {
     "name": "stdout",
     "output_type": "stream",
     "text": [
      "<class 'pandas.core.frame.DataFrame'>\n",
      "Int64Index: 2528 entries, 0 to 2527\n",
      "Data columns (total 6 columns):\n",
      "created_time    2528 non-null datetime64[ns]\n",
      "id              2528 non-null object\n",
      "message         2467 non-null object\n",
      "share_count     2443 non-null float64\n",
      "status_type     2513 non-null object\n",
      "story           1310 non-null object\n",
      "dtypes: datetime64[ns](1), float64(1), object(4)\n",
      "memory usage: 138.2+ KB\n"
     ]
    }
   ],
   "source": [
    "fb.info()"
   ]
  },
  {
   "cell_type": "markdown",
   "metadata": {},
   "source": [
    "#### Set created_time as the dataframe's index and sort the dataframe by the datetime index"
   ]
  },
  {
   "cell_type": "code",
   "execution_count": 11,
   "metadata": {
    "collapsed": true
   },
   "outputs": [],
   "source": [
    "fb.set_index('created_time', inplace=True)"
   ]
  },
  {
   "cell_type": "code",
   "execution_count": 12,
   "metadata": {
    "collapsed": true
   },
   "outputs": [],
   "source": [
    "fb.sort_index(inplace=True)"
   ]
  },
  {
   "cell_type": "code",
   "execution_count": 13,
   "metadata": {},
   "outputs": [
    {
     "data": {
      "text/html": [
       "<div>\n",
       "<style>\n",
       "    .dataframe thead tr:only-child th {\n",
       "        text-align: right;\n",
       "    }\n",
       "\n",
       "    .dataframe thead th {\n",
       "        text-align: left;\n",
       "    }\n",
       "\n",
       "    .dataframe tbody tr th {\n",
       "        vertical-align: top;\n",
       "    }\n",
       "</style>\n",
       "<table border=\"1\" class=\"dataframe\">\n",
       "  <thead>\n",
       "    <tr style=\"text-align: right;\">\n",
       "      <th></th>\n",
       "      <th>id</th>\n",
       "      <th>message</th>\n",
       "      <th>share_count</th>\n",
       "      <th>status_type</th>\n",
       "      <th>story</th>\n",
       "    </tr>\n",
       "    <tr>\n",
       "      <th>created_time</th>\n",
       "      <th></th>\n",
       "      <th></th>\n",
       "      <th></th>\n",
       "      <th></th>\n",
       "      <th></th>\n",
       "    </tr>\n",
       "  </thead>\n",
       "  <tbody>\n",
       "    <tr>\n",
       "      <th>1952-02-10 08:00:00</th>\n",
       "      <td>125845680811480_309672785762101</td>\n",
       "      <td>None</td>\n",
       "      <td>3.0</td>\n",
       "      <td>None</td>\n",
       "      <td>Lee Hsien Loong added a life event from Februa...</td>\n",
       "    </tr>\n",
       "    <tr>\n",
       "      <th>1958-01-01 08:00:00</th>\n",
       "      <td>125845680811480_309673622428684</td>\n",
       "      <td>None</td>\n",
       "      <td>5.0</td>\n",
       "      <td>None</td>\n",
       "      <td>Lee Hsien Loong added a life event from 1958: ...</td>\n",
       "    </tr>\n",
       "    <tr>\n",
       "      <th>1964-01-01 08:00:00</th>\n",
       "      <td>125845680811480_309671562428890</td>\n",
       "      <td>None</td>\n",
       "      <td>5.0</td>\n",
       "      <td>None</td>\n",
       "      <td>Lee Hsien Loong added a life event from 1964: ...</td>\n",
       "    </tr>\n",
       "    <tr>\n",
       "      <th>1973-07-01 07:00:00</th>\n",
       "      <td>125845680811480_309672155762164</td>\n",
       "      <td>None</td>\n",
       "      <td>85.0</td>\n",
       "      <td>None</td>\n",
       "      <td>Lee Hsien Loong added a life event from July 1...</td>\n",
       "    </tr>\n",
       "    <tr>\n",
       "      <th>1974-06-21 07:00:00</th>\n",
       "      <td>125845680811480_309672595762120</td>\n",
       "      <td>None</td>\n",
       "      <td>2.0</td>\n",
       "      <td>None</td>\n",
       "      <td>Lee Hsien Loong added a life event from June 2...</td>\n",
       "    </tr>\n",
       "  </tbody>\n",
       "</table>\n",
       "</div>"
      ],
      "text/plain": [
       "                                                  id message  share_count  \\\n",
       "created_time                                                                \n",
       "1952-02-10 08:00:00  125845680811480_309672785762101    None          3.0   \n",
       "1958-01-01 08:00:00  125845680811480_309673622428684    None          5.0   \n",
       "1964-01-01 08:00:00  125845680811480_309671562428890    None          5.0   \n",
       "1973-07-01 07:00:00  125845680811480_309672155762164    None         85.0   \n",
       "1974-06-21 07:00:00  125845680811480_309672595762120    None          2.0   \n",
       "\n",
       "                    status_type  \\\n",
       "created_time                      \n",
       "1952-02-10 08:00:00        None   \n",
       "1958-01-01 08:00:00        None   \n",
       "1964-01-01 08:00:00        None   \n",
       "1973-07-01 07:00:00        None   \n",
       "1974-06-21 07:00:00        None   \n",
       "\n",
       "                                                                 story  \n",
       "created_time                                                            \n",
       "1952-02-10 08:00:00  Lee Hsien Loong added a life event from Februa...  \n",
       "1958-01-01 08:00:00  Lee Hsien Loong added a life event from 1958: ...  \n",
       "1964-01-01 08:00:00  Lee Hsien Loong added a life event from 1964: ...  \n",
       "1973-07-01 07:00:00  Lee Hsien Loong added a life event from July 1...  \n",
       "1974-06-21 07:00:00  Lee Hsien Loong added a life event from June 2...  "
      ]
     },
     "execution_count": 13,
     "metadata": {},
     "output_type": "execute_result"
    }
   ],
   "source": [
    "fb.head()"
   ]
  },
  {
   "cell_type": "code",
   "execution_count": 14,
   "metadata": {},
   "outputs": [
    {
     "data": {
      "text/html": [
       "<div>\n",
       "<style>\n",
       "    .dataframe thead tr:only-child th {\n",
       "        text-align: right;\n",
       "    }\n",
       "\n",
       "    .dataframe thead th {\n",
       "        text-align: left;\n",
       "    }\n",
       "\n",
       "    .dataframe tbody tr th {\n",
       "        vertical-align: top;\n",
       "    }\n",
       "</style>\n",
       "<table border=\"1\" class=\"dataframe\">\n",
       "  <thead>\n",
       "    <tr style=\"text-align: right;\">\n",
       "      <th></th>\n",
       "      <th>id</th>\n",
       "      <th>message</th>\n",
       "      <th>share_count</th>\n",
       "      <th>status_type</th>\n",
       "      <th>story</th>\n",
       "    </tr>\n",
       "    <tr>\n",
       "      <th>created_time</th>\n",
       "      <th></th>\n",
       "      <th></th>\n",
       "      <th></th>\n",
       "      <th></th>\n",
       "      <th></th>\n",
       "    </tr>\n",
       "  </thead>\n",
       "  <tbody>\n",
       "    <tr>\n",
       "      <th>2017-07-18 14:21:53</th>\n",
       "      <td>125845680811480_1544866842242683</td>\n",
       "      <td>Spent a fun morning visiting two preschools in...</td>\n",
       "      <td>338.0</td>\n",
       "      <td>added_video</td>\n",
       "      <td>None</td>\n",
       "    </tr>\n",
       "    <tr>\n",
       "      <th>2017-07-19 02:03:34</th>\n",
       "      <td>125845680811480_1545406252188742</td>\n",
       "      <td>Puan Noor Aishah was only 26 when her husband,...</td>\n",
       "      <td>120.0</td>\n",
       "      <td>added_photos</td>\n",
       "      <td>Lee Hsien Loong added 3 new photos to the albu...</td>\n",
       "    </tr>\n",
       "    <tr>\n",
       "      <th>2017-07-20 02:03:51</th>\n",
       "      <td>125845680811480_1546478675414833</td>\n",
       "      <td>Race, language, and religion are fault lines t...</td>\n",
       "      <td>170.0</td>\n",
       "      <td>added_photos</td>\n",
       "      <td>Lee Hsien Loong added 9 new photos to the albu...</td>\n",
       "    </tr>\n",
       "    <tr>\n",
       "      <th>2017-07-21 01:00:00</th>\n",
       "      <td>125845680811480_1547453581984009</td>\n",
       "      <td>In many ways, racial harmony is like making mu...</td>\n",
       "      <td>103.0</td>\n",
       "      <td>added_photos</td>\n",
       "      <td>None</td>\n",
       "    </tr>\n",
       "    <tr>\n",
       "      <th>2017-07-22 12:08:26</th>\n",
       "      <td>125845680811480_1549087385153962</td>\n",
       "      <td>The Central Singapore Community Development Co...</td>\n",
       "      <td>54.0</td>\n",
       "      <td>added_photos</td>\n",
       "      <td>Lee Hsien Loong added 2 new photos to the albu...</td>\n",
       "    </tr>\n",
       "  </tbody>\n",
       "</table>\n",
       "</div>"
      ],
      "text/plain": [
       "                                                   id  \\\n",
       "created_time                                            \n",
       "2017-07-18 14:21:53  125845680811480_1544866842242683   \n",
       "2017-07-19 02:03:34  125845680811480_1545406252188742   \n",
       "2017-07-20 02:03:51  125845680811480_1546478675414833   \n",
       "2017-07-21 01:00:00  125845680811480_1547453581984009   \n",
       "2017-07-22 12:08:26  125845680811480_1549087385153962   \n",
       "\n",
       "                                                               message  \\\n",
       "created_time                                                             \n",
       "2017-07-18 14:21:53  Spent a fun morning visiting two preschools in...   \n",
       "2017-07-19 02:03:34  Puan Noor Aishah was only 26 when her husband,...   \n",
       "2017-07-20 02:03:51  Race, language, and religion are fault lines t...   \n",
       "2017-07-21 01:00:00  In many ways, racial harmony is like making mu...   \n",
       "2017-07-22 12:08:26  The Central Singapore Community Development Co...   \n",
       "\n",
       "                     share_count   status_type  \\\n",
       "created_time                                     \n",
       "2017-07-18 14:21:53        338.0   added_video   \n",
       "2017-07-19 02:03:34        120.0  added_photos   \n",
       "2017-07-20 02:03:51        170.0  added_photos   \n",
       "2017-07-21 01:00:00        103.0  added_photos   \n",
       "2017-07-22 12:08:26         54.0  added_photos   \n",
       "\n",
       "                                                                 story  \n",
       "created_time                                                            \n",
       "2017-07-18 14:21:53                                               None  \n",
       "2017-07-19 02:03:34  Lee Hsien Loong added 3 new photos to the albu...  \n",
       "2017-07-20 02:03:51  Lee Hsien Loong added 9 new photos to the albu...  \n",
       "2017-07-21 01:00:00                                               None  \n",
       "2017-07-22 12:08:26  Lee Hsien Loong added 2 new photos to the albu...  "
      ]
     },
     "execution_count": 14,
     "metadata": {},
     "output_type": "execute_result"
    }
   ],
   "source": [
    "fb.tail()"
   ]
  },
  {
   "cell_type": "markdown",
   "metadata": {},
   "source": [
    "#### Convert the datetime index from utc to Asia / Singapore "
   ]
  },
  {
   "cell_type": "code",
   "execution_count": 15,
   "metadata": {
    "collapsed": true
   },
   "outputs": [],
   "source": [
    "fb.index = fb.index.tz_localize('utc').tz_convert('Asia/Singapore')"
   ]
  },
  {
   "cell_type": "markdown",
   "metadata": {},
   "source": [
    "#### Plot the weekly counts of posts from 2012 onwards"
   ]
  },
  {
   "cell_type": "code",
   "execution_count": 16,
   "metadata": {},
   "outputs": [
    {
     "data": {
      "text/plain": [
       "<matplotlib.axes._subplots.AxesSubplot at 0x118698490>"
      ]
     },
     "execution_count": 16,
     "metadata": {},
     "output_type": "execute_result"
    },
    {
     "data": {
      "image/png": "[encoded data removed]",
      "text/plain": [
       "<matplotlib.figure.Figure at 0x10d5f73d0>"
      ]
     },
     "metadata": {},
     "output_type": "display_data"
    }
   ],
   "source": [
    "plt.figure(figsize=(16,8))\n",
    "fb['2012':].resample('W').count()['message'].plot()"
   ]
  },
  {
   "cell_type": "markdown",
   "metadata": {},
   "source": [
    "#### Plot the weekly share count totals from 2012 onwards "
   ]
  },
  {
   "cell_type": "code",
   "execution_count": 17,
   "metadata": {},
   "outputs": [
    {
     "data": {
      "text/plain": [
       "<matplotlib.axes._subplots.AxesSubplot at 0x1188375d0>"
      ]
     },
     "execution_count": 17,
     "metadata": {},
     "output_type": "execute_result"
    },
    {
     "data": {
      "image/png": "[encoded data removed]",
      "text/plain": [
       "<matplotlib.figure.Figure at 0x118842e50>"
      ]
     },
     "metadata": {},
     "output_type": "display_data"
    }
   ],
   "source": [
    "plt.figure(figsize=(16,8))\n",
    "fb['2012':].resample('W')['share_count'].sum().plot()"
   ]
  },
  {
   "cell_type": "markdown",
   "metadata": {},
   "source": [
    "#### Which are the top five weeks in terms of total share counts? "
   ]
  },
  {
   "cell_type": "code",
   "execution_count": 18,
   "metadata": {},
   "outputs": [
    {
     "data": {
      "text/plain": [
       "created_time\n",
       "2015-03-29 00:00:00+08:00    227658.0\n",
       "2014-11-30 00:00:00+08:00     47578.0\n",
       "2015-04-05 00:00:00+08:00     31088.0\n",
       "2015-08-09 00:00:00+08:00     27116.0\n",
       "2015-05-10 00:00:00+08:00     22893.0\n",
       "Name: share_count, dtype: float64"
      ]
     },
     "execution_count": 18,
     "metadata": {},
     "output_type": "execute_result"
    }
   ],
   "source": [
    "fb['2012':].resample('W')['share_count'].sum().sort_values(ascending=False)[:5]"
   ]
  },
  {
   "cell_type": "code",
   "execution_count": 19,
   "metadata": {},
   "outputs": [],
   "source": [
    "ab = fb['2012':].resample('W')['share_count'].sum().sort_values(ascending=False)[:5].index"
   ]
  },
  {
   "cell_type": "code",
   "execution_count": 20,
   "metadata": {},
   "outputs": [
    {
     "data": {
      "text/plain": [
       "created_time\n",
       "2015-03-29 00:00:00+08:00    227658.0\n",
       "2014-11-30 00:00:00+08:00     47578.0\n",
       "2015-04-05 00:00:00+08:00     31088.0\n",
       "2015-08-09 00:00:00+08:00     27116.0\n",
       "2015-05-10 00:00:00+08:00     22893.0\n",
       "Name: share_count, dtype: float64"
      ]
     },
     "execution_count": 20,
     "metadata": {},
     "output_type": "execute_result"
    }
   ],
   "source": [
    "fb['2012':].resample('W')['share_count'].sum()[ab]"
   ]
  },
  {
   "cell_type": "markdown",
   "metadata": {},
   "source": [
    "#### What event and posts resulted in the highest weekly share count?"
   ]
  },
  {
   "cell_type": "code",
   "execution_count": 21,
   "metadata": {},
   "outputs": [
    {
     "data": {
      "text/html": [
       "<div>\n",
       "<style>\n",
       "    .dataframe thead tr:only-child th {\n",
       "        text-align: right;\n",
       "    }\n",
       "\n",
       "    .dataframe thead th {\n",
       "        text-align: left;\n",
       "    }\n",
       "\n",
       "    .dataframe tbody tr th {\n",
       "        vertical-align: top;\n",
       "    }\n",
       "</style>\n",
       "<table border=\"1\" class=\"dataframe\">\n",
       "  <thead>\n",
       "    <tr style=\"text-align: right;\">\n",
       "      <th></th>\n",
       "      <th>id</th>\n",
       "      <th>message</th>\n",
       "      <th>share_count</th>\n",
       "      <th>status_type</th>\n",
       "      <th>story</th>\n",
       "    </tr>\n",
       "    <tr>\n",
       "      <th>created_time</th>\n",
       "      <th></th>\n",
       "      <th></th>\n",
       "      <th></th>\n",
       "      <th></th>\n",
       "      <th></th>\n",
       "    </tr>\n",
       "  </thead>\n",
       "  <tbody>\n",
       "    <tr>\n",
       "      <th>2015-03-02 09:05:58+08:00</th>\n",
       "      <td>125845680811480_866202600109114</td>\n",
       "      <td>A-level results are out today. To students col...</td>\n",
       "      <td>307.0</td>\n",
       "      <td>added_photos</td>\n",
       "      <td>None</td>\n",
       "    </tr>\n",
       "    <tr>\n",
       "      <th>2015-03-02 21:01:11+08:00</th>\n",
       "      <td>125845680811480_866598870069487</td>\n",
       "      <td>Joined Dr Tony Tan, Mrs Mary Tan, Goh Chok Ton...</td>\n",
       "      <td>173.0</td>\n",
       "      <td>added_photos</td>\n",
       "      <td>None</td>\n",
       "    </tr>\n",
       "    <tr>\n",
       "      <th>2015-03-04 21:06:12+08:00</th>\n",
       "      <td>125845680811480_867713179958056</td>\n",
       "      <td>The Budget debate began yesterday. NMP Chia Yo...</td>\n",
       "      <td>1826.0</td>\n",
       "      <td>added_video</td>\n",
       "      <td>None</td>\n",
       "    </tr>\n",
       "    <tr>\n",
       "      <th>2015-03-05 20:34:20+08:00</th>\n",
       "      <td>125845680811480_868546676541373</td>\n",
       "      <td>In the Budget debate yesterday, NTUC Secretary...</td>\n",
       "      <td>224.0</td>\n",
       "      <td>added_photos</td>\n",
       "      <td>None</td>\n",
       "    </tr>\n",
       "    <tr>\n",
       "      <th>2015-03-06 09:03:12+08:00</th>\n",
       "      <td>125845680811480_868834393179268</td>\n",
       "      <td>STATEMENT FROM THE PRIME MINISTER’S OFFICE ON ...</td>\n",
       "      <td>248.0</td>\n",
       "      <td>mobile_status_update</td>\n",
       "      <td>None</td>\n",
       "    </tr>\n",
       "    <tr>\n",
       "      <th>2015-03-06 12:19:07+08:00</th>\n",
       "      <td>125845680811480_868892703173437</td>\n",
       "      <td>Upper Peirce Reservoir, taken on an evening wa...</td>\n",
       "      <td>165.0</td>\n",
       "      <td>added_photos</td>\n",
       "      <td>Lee Hsien Loong updated their cover photo.</td>\n",
       "    </tr>\n",
       "    <tr>\n",
       "      <th>2015-03-06 21:50:00+08:00</th>\n",
       "      <td>125845680811480_869211796474861</td>\n",
       "      <td>“Never take our peace for granted. A strong de...</td>\n",
       "      <td>423.0</td>\n",
       "      <td>added_video</td>\n",
       "      <td>None</td>\n",
       "    </tr>\n",
       "    <tr>\n",
       "      <th>2015-03-07 11:07:07+08:00</th>\n",
       "      <td>125845680811480_869406209788753</td>\n",
       "      <td>Met religious leaders over two lunches this we...</td>\n",
       "      <td>488.0</td>\n",
       "      <td>added_photos</td>\n",
       "      <td>Lee Hsien Loong with Rajakanth Raman and 4 oth...</td>\n",
       "    </tr>\n",
       "    <tr>\n",
       "      <th>2015-03-08 09:04:20+08:00</th>\n",
       "      <td>125845680811480_869848606411180</td>\n",
       "      <td>At my National Day Rally last year, I announce...</td>\n",
       "      <td>NaN</td>\n",
       "      <td>shared_story</td>\n",
       "      <td>Lee Hsien Loong shared Yaacob Ibrahim's album.</td>\n",
       "    </tr>\n",
       "    <tr>\n",
       "      <th>2015-03-08 11:02:51+08:00</th>\n",
       "      <td>125845680811480_869882376407803</td>\n",
       "      <td>Catching up with old friend Eric Chu, New Taip...</td>\n",
       "      <td>259.0</td>\n",
       "      <td>added_photos</td>\n",
       "      <td>None</td>\n",
       "    </tr>\n",
       "    <tr>\n",
       "      <th>2015-03-09 20:50:00+08:00</th>\n",
       "      <td>125845680811480_870778776318163</td>\n",
       "      <td>Can the CPF help us to save enough for our ret...</td>\n",
       "      <td>445.0</td>\n",
       "      <td>added_video</td>\n",
       "      <td>None</td>\n",
       "    </tr>\n",
       "    <tr>\n",
       "      <th>2015-03-11 11:02:09+08:00</th>\n",
       "      <td>125845680811480_871684739560900</td>\n",
       "      <td>Can you spot Mr Lee Kuan Yew in these old phot...</td>\n",
       "      <td>345.0</td>\n",
       "      <td>added_photos</td>\n",
       "      <td>None</td>\n",
       "    </tr>\n",
       "    <tr>\n",
       "      <th>2015-03-13 09:07:02+08:00</th>\n",
       "      <td>125845680811480_872930906102950</td>\n",
       "      <td>STATEMENT FROM THE PRIME MINISTER’S OFFICE\\nON...</td>\n",
       "      <td>185.0</td>\n",
       "      <td>mobile_status_update</td>\n",
       "      <td>None</td>\n",
       "    </tr>\n",
       "    <tr>\n",
       "      <th>2015-03-13 11:42:58+08:00</th>\n",
       "      <td>125845680811480_872980659431308</td>\n",
       "      <td>In the month since Mr Lee Kuan Yew was admitte...</td>\n",
       "      <td>431.0</td>\n",
       "      <td>added_photos</td>\n",
       "      <td>None</td>\n",
       "    </tr>\n",
       "    <tr>\n",
       "      <th>2015-03-14 09:26:00+08:00</th>\n",
       "      <td>125845680811480_873591119370262</td>\n",
       "      <td>International Pi (π) Day is unofficially celeb...</td>\n",
       "      <td>2071.0</td>\n",
       "      <td>shared_story</td>\n",
       "      <td>None</td>\n",
       "    </tr>\n",
       "    <tr>\n",
       "      <th>2015-03-14 20:00:04+08:00</th>\n",
       "      <td>125845680811480_873961275999913</td>\n",
       "      <td>Took this pic on a walk 2 weeks ago. I first s...</td>\n",
       "      <td>383.0</td>\n",
       "      <td>added_photos</td>\n",
       "      <td>None</td>\n",
       "    </tr>\n",
       "    <tr>\n",
       "      <th>2015-03-15 11:05:27+08:00</th>\n",
       "      <td>125845680811480_874306352632072</td>\n",
       "      <td>People may think of Singapore as a concrete ju...</td>\n",
       "      <td>415.0</td>\n",
       "      <td>shared_story</td>\n",
       "      <td>None</td>\n",
       "    </tr>\n",
       "    <tr>\n",
       "      <th>2015-03-16 09:02:53+08:00</th>\n",
       "      <td>125845680811480_875098455886195</td>\n",
       "      <td>The March school holidays are here! Hope that ...</td>\n",
       "      <td>146.0</td>\n",
       "      <td>added_photos</td>\n",
       "      <td>None</td>\n",
       "    </tr>\n",
       "    <tr>\n",
       "      <th>2015-03-17 11:01:00+08:00</th>\n",
       "      <td>125845680811480_876125649116809</td>\n",
       "      <td>It’s never too late for one more yu sheng! Cel...</td>\n",
       "      <td>188.0</td>\n",
       "      <td>added_photos</td>\n",
       "      <td>None</td>\n",
       "    </tr>\n",
       "    <tr>\n",
       "      <th>2015-03-17 13:46:22+08:00</th>\n",
       "      <td>125845680811480_876337652428942</td>\n",
       "      <td>STATEMENT FROM THE PRIME MINISTER’S OFFICE ON ...</td>\n",
       "      <td>1577.0</td>\n",
       "      <td>mobile_status_update</td>\n",
       "      <td>None</td>\n",
       "    </tr>\n",
       "    <tr>\n",
       "      <th>2015-03-18 13:26:02+08:00</th>\n",
       "      <td>125845680811480_877050765690964</td>\n",
       "      <td>STATEMENT FROM THE PRIME MINISTER’S OFFICE  ON...</td>\n",
       "      <td>4001.0</td>\n",
       "      <td>added_photos</td>\n",
       "      <td>None</td>\n",
       "    </tr>\n",
       "    <tr>\n",
       "      <th>2015-03-18 18:00:00+08:00</th>\n",
       "      <td>125845680811480_877229355673105</td>\n",
       "      <td>(MCI Photo by LH Goh)</td>\n",
       "      <td>757.0</td>\n",
       "      <td>added_photos</td>\n",
       "      <td>Lee Hsien Loong added a new photo.</td>\n",
       "    </tr>\n",
       "    <tr>\n",
       "      <th>2015-03-18 18:05:32+08:00</th>\n",
       "      <td>125845680811480_877229372339770</td>\n",
       "      <td>(MCI Photo by LH Goh)</td>\n",
       "      <td>757.0</td>\n",
       "      <td>added_photos</td>\n",
       "      <td>Lee Hsien Loong updated their profile picture.</td>\n",
       "    </tr>\n",
       "    <tr>\n",
       "      <th>2015-03-20 12:12:51+08:00</th>\n",
       "      <td>125845680811480_878807555515285</td>\n",
       "      <td>STATEMENT FROM THE PRIME MINISTER’S OFFICE ON ...</td>\n",
       "      <td>1304.0</td>\n",
       "      <td>added_photos</td>\n",
       "      <td>None</td>\n",
       "    </tr>\n",
       "    <tr>\n",
       "      <th>2015-03-20 18:02:35+08:00</th>\n",
       "      <td>125845680811480_878953398834034</td>\n",
       "      <td>Thank you all for your good wishes and prayers...</td>\n",
       "      <td>7748.0</td>\n",
       "      <td>added_photos</td>\n",
       "      <td>Lee Hsien Loong with Devian Shu.</td>\n",
       "    </tr>\n",
       "    <tr>\n",
       "      <th>2015-03-21 12:05:57+08:00</th>\n",
       "      <td>125845680811480_879409395455101</td>\n",
       "      <td>STATEMENT FROM THE PRIME MINISTER’S OFFICE ON ...</td>\n",
       "      <td>3373.0</td>\n",
       "      <td>added_photos</td>\n",
       "      <td>None</td>\n",
       "    </tr>\n",
       "    <tr>\n",
       "      <th>2015-03-22 11:22:49+08:00</th>\n",
       "      <td>125845680811480_880375655358475</td>\n",
       "      <td>STATEMENT FROM THE PRIME MINISTER’S OFFICE ON ...</td>\n",
       "      <td>1977.0</td>\n",
       "      <td>added_photos</td>\n",
       "      <td>None</td>\n",
       "    </tr>\n",
       "    <tr>\n",
       "      <th>2015-03-23 04:07:13+08:00</th>\n",
       "      <td>125845680811480_880827218646652</td>\n",
       "      <td>STATEMENT FROM THE PRIME MINISTER’S OFFICE\\n\\n...</td>\n",
       "      <td>39271.0</td>\n",
       "      <td>added_photos</td>\n",
       "      <td>None</td>\n",
       "    </tr>\n",
       "    <tr>\n",
       "      <th>2015-03-23 04:16:17+08:00</th>\n",
       "      <td>125845680811480_880833611979346</td>\n",
       "      <td>Lee Kuan Yew, 23 November 2004. \\n\\n(Photo by ...</td>\n",
       "      <td>5976.0</td>\n",
       "      <td>added_photos</td>\n",
       "      <td>Lee Hsien Loong updated their cover photo.</td>\n",
       "    </tr>\n",
       "    <tr>\n",
       "      <th>2015-03-23 05:12:00+08:00</th>\n",
       "      <td>125845680811480_881404371922270</td>\n",
       "      <td>(MCI Photo by LH Goh)</td>\n",
       "      <td>1047.0</td>\n",
       "      <td>added_photos</td>\n",
       "      <td>Lee Hsien Loong added a new photo.</td>\n",
       "    </tr>\n",
       "    <tr>\n",
       "      <th>2015-03-23 05:29:28+08:00</th>\n",
       "      <td>125845680811480_880888481973859</td>\n",
       "      <td>Lee Kuan Yew, 23 November 2004.\\n\\n(Photo by T...</td>\n",
       "      <td>12255.0</td>\n",
       "      <td>added_photos</td>\n",
       "      <td>Lee Hsien Loong updated their cover photo.</td>\n",
       "    </tr>\n",
       "    <tr>\n",
       "      <th>2015-03-23 06:53:56+08:00</th>\n",
       "      <td>125845680811480_880956571967050</td>\n",
       "      <td>STATEMENT FROM THE PRIME MINISTER’S OFFICE\\n\\n...</td>\n",
       "      <td>2.0</td>\n",
       "      <td>shared_story</td>\n",
       "      <td>Lee Hsien Loong shared a Page.</td>\n",
       "    </tr>\n",
       "    <tr>\n",
       "      <th>2015-03-23 07:12:45+08:00</th>\n",
       "      <td>125845680811480_880977195298321</td>\n",
       "      <td>PM Lee will address the nation at 8am today. T...</td>\n",
       "      <td>1030.0</td>\n",
       "      <td>mobile_status_update</td>\n",
       "      <td>None</td>\n",
       "    </tr>\n",
       "    <tr>\n",
       "      <th>2015-03-23 09:01:43+08:00</th>\n",
       "      <td>125845680811480_881068431955864</td>\n",
       "      <td>PM Lee addressed the nation this morning at 8a...</td>\n",
       "      <td>60946.0</td>\n",
       "      <td>added_video</td>\n",
       "      <td>Lee Hsien Loong at Istana.</td>\n",
       "    </tr>\n",
       "    <tr>\n",
       "      <th>2015-03-23 09:50:12+08:00</th>\n",
       "      <td>125845680811480_881107598618614</td>\n",
       "      <td>STATEMENT FROM THE PRIME MINISTER’S OFFICE ON ...</td>\n",
       "      <td>4387.0</td>\n",
       "      <td>added_photos</td>\n",
       "      <td>None</td>\n",
       "    </tr>\n",
       "    <tr>\n",
       "      <th>2015-03-23 12:00:00+08:00</th>\n",
       "      <td>125845680811480_882035275192513</td>\n",
       "      <td>The Sultan of Brunei was a very old friend of ...</td>\n",
       "      <td>471.0</td>\n",
       "      <td>added_photos</td>\n",
       "      <td>Lee Hsien Loong added a new photo to the album...</td>\n",
       "    </tr>\n",
       "    <tr>\n",
       "      <th>2015-03-23 20:11:21+08:00</th>\n",
       "      <td>125845680811480_881404135255627</td>\n",
       "      <td>(MCI Photo by LH Goh)</td>\n",
       "      <td>1047.0</td>\n",
       "      <td>added_photos</td>\n",
       "      <td>Lee Hsien Loong updated their profile picture.</td>\n",
       "    </tr>\n",
       "    <tr>\n",
       "      <th>2015-03-24 10:07:43+08:00</th>\n",
       "      <td>125845680811480_881823051880402</td>\n",
       "      <td>Henry Kissinger was an old and close friend of...</td>\n",
       "      <td>5572.0</td>\n",
       "      <td>shared_story</td>\n",
       "      <td>None</td>\n",
       "    </tr>\n",
       "    <tr>\n",
       "      <th>2015-03-24 12:00:00+08:00</th>\n",
       "      <td>125845680811480_1070962919633080</td>\n",
       "      <td>Thanks to NParks for naming a new orchid in ho...</td>\n",
       "      <td>3479.0</td>\n",
       "      <td>added_photos</td>\n",
       "      <td>None</td>\n",
       "    </tr>\n",
       "    <tr>\n",
       "      <th>2015-03-25 11:56:48+08:00</th>\n",
       "      <td>125845680811480_882497635146277</td>\n",
       "      <td>None</td>\n",
       "      <td>NaN</td>\n",
       "      <td>shared_story</td>\n",
       "      <td>Lee Hsien Loong shared Remembering Lee Kuan Ye...</td>\n",
       "    </tr>\n",
       "    <tr>\n",
       "      <th>2015-03-25 19:28:23+08:00</th>\n",
       "      <td>125845680811480_882737888455585</td>\n",
       "      <td>Mr Lee Kuan Yew’s body was brought from Sri Te...</td>\n",
       "      <td>12865.0</td>\n",
       "      <td>added_video</td>\n",
       "      <td>None</td>\n",
       "    </tr>\n",
       "    <tr>\n",
       "      <th>2015-03-25 22:09:52+08:00</th>\n",
       "      <td>125845680811480_882809098448464</td>\n",
       "      <td>A beautiful rendition of “Home” by the choir o...</td>\n",
       "      <td>16894.0</td>\n",
       "      <td>added_video</td>\n",
       "      <td>None</td>\n",
       "    </tr>\n",
       "    <tr>\n",
       "      <th>2015-03-26 15:42:46+08:00</th>\n",
       "      <td>125845680811480_883251555070885</td>\n",
       "      <td>Parliament will have a special sitting at 4pm ...</td>\n",
       "      <td>682.0</td>\n",
       "      <td>shared_story</td>\n",
       "      <td>None</td>\n",
       "    </tr>\n",
       "    <tr>\n",
       "      <th>2015-03-26 19:20:00+08:00</th>\n",
       "      <td>125845680811480_883441685051872</td>\n",
       "      <td>My parents at the Bridge of Sighs in Cambridge...</td>\n",
       "      <td>18919.0</td>\n",
       "      <td>added_photos</td>\n",
       "      <td>Lee Hsien Loong with Lim Tong Nam and Lee Chin...</td>\n",
       "    </tr>\n",
       "    <tr>\n",
       "      <th>2015-03-27 14:05:01+08:00</th>\n",
       "      <td>125845680811480_883961254999915</td>\n",
       "      <td>We have long been close friends with New Zeala...</td>\n",
       "      <td>1345.0</td>\n",
       "      <td>shared_story</td>\n",
       "      <td>None</td>\n",
       "    </tr>\n",
       "    <tr>\n",
       "      <th>2015-03-27 15:23:48+08:00</th>\n",
       "      <td>125845680811480_883981488331225</td>\n",
       "      <td>I am deeply moved by the overwhelming response...</td>\n",
       "      <td>6113.0</td>\n",
       "      <td>shared_story</td>\n",
       "      <td>None</td>\n",
       "    </tr>\n",
       "    <tr>\n",
       "      <th>2015-03-28 10:13:50+08:00</th>\n",
       "      <td>125845680811480_884429421619765</td>\n",
       "      <td>My thanks to Rani Singam, Jeremy Monteiro, and...</td>\n",
       "      <td>14665.0</td>\n",
       "      <td>added_video</td>\n",
       "      <td>None</td>\n",
       "    </tr>\n",
       "    <tr>\n",
       "      <th>2015-03-28 14:16:25+08:00</th>\n",
       "      <td>125845680811480_884610691601638</td>\n",
       "      <td>A feisty and witty article. My father would ha...</td>\n",
       "      <td>5329.0</td>\n",
       "      <td>shared_story</td>\n",
       "      <td>None</td>\n",
       "    </tr>\n",
       "    <tr>\n",
       "      <th>2015-03-28 15:50:00+08:00</th>\n",
       "      <td>125845680811480_884637454932295</td>\n",
       "      <td>Part of the medical team that looked after my ...</td>\n",
       "      <td>1426.0</td>\n",
       "      <td>added_photos</td>\n",
       "      <td>Lee Hsien Loong with Vivian Kang.</td>\n",
       "    </tr>\n",
       "    <tr>\n",
       "      <th>2015-03-29 10:01:26+08:00</th>\n",
       "      <td>125845680811480_885291354866905</td>\n",
       "      <td>Since my father passed away, Singaporeans have...</td>\n",
       "      <td>10702.0</td>\n",
       "      <td>added_photos</td>\n",
       "      <td>None</td>\n",
       "    </tr>\n",
       "    <tr>\n",
       "      <th>2015-03-29 11:33:16+08:00</th>\n",
       "      <td>125845680811480_885330268196347</td>\n",
       "      <td>The Funeral Service for the late Mr Lee Kuan Y...</td>\n",
       "      <td>2021.0</td>\n",
       "      <td>shared_story</td>\n",
       "      <td>None</td>\n",
       "    </tr>\n",
       "    <tr>\n",
       "      <th>2015-03-29 23:42:44+08:00</th>\n",
       "      <td>125845680811480_885634014832639</td>\n",
       "      <td>The State Funeral Service for the late Mr Lee ...</td>\n",
       "      <td>1214.0</td>\n",
       "      <td>shared_story</td>\n",
       "      <td>None</td>\n",
       "    </tr>\n",
       "    <tr>\n",
       "      <th>2015-03-30 01:29:21+08:00</th>\n",
       "      <td>125845680811480_885671528162221</td>\n",
       "      <td>After the State Funeral Service, my father’s c...</td>\n",
       "      <td>15510.0</td>\n",
       "      <td>added_video</td>\n",
       "      <td>None</td>\n",
       "    </tr>\n",
       "    <tr>\n",
       "      <th>2015-03-30 09:47:25+08:00</th>\n",
       "      <td>125845680811480_885908348138539</td>\n",
       "      <td>MCI Photo by Terence Tan</td>\n",
       "      <td>2164.0</td>\n",
       "      <td>added_photos</td>\n",
       "      <td>Lee Hsien Loong updated their profile picture.</td>\n",
       "    </tr>\n",
       "    <tr>\n",
       "      <th>2015-03-30 09:49:10+08:00</th>\n",
       "      <td>125845680811480_885909158138458</td>\n",
       "      <td>Snapped this pic of the Kallang Basin when I v...</td>\n",
       "      <td>821.0</td>\n",
       "      <td>added_photos</td>\n",
       "      <td>Lee Hsien Loong updated their cover photo.</td>\n",
       "    </tr>\n",
       "    <tr>\n",
       "      <th>2015-03-30 18:22:35+08:00</th>\n",
       "      <td>125845680811480_886093948119979</td>\n",
       "      <td>Life is better when it is short, healthy and full</td>\n",
       "      <td>2952.0</td>\n",
       "      <td>created_note</td>\n",
       "      <td>Lee Hsien Loong published a note.</td>\n",
       "    </tr>\n",
       "    <tr>\n",
       "      <th>2015-03-30 18:23:46+08:00</th>\n",
       "      <td>125845680811480_886094944786546</td>\n",
       "      <td>In my eulogy at the private service at Mandai ...</td>\n",
       "      <td>6.0</td>\n",
       "      <td>shared_story</td>\n",
       "      <td>Lee Hsien Loong shared their note.</td>\n",
       "    </tr>\n",
       "    <tr>\n",
       "      <th>2015-03-31 16:39:10+08:00</th>\n",
       "      <td>125845680811480_886558878073486</td>\n",
       "      <td>Beautifully captured and narrated. Thank you m...</td>\n",
       "      <td>4328.0</td>\n",
       "      <td>shared_story</td>\n",
       "      <td>None</td>\n",
       "    </tr>\n",
       "  </tbody>\n",
       "</table>\n",
       "</div>"
      ],
      "text/plain": [
       "                                                         id  \\\n",
       "created_time                                                  \n",
       "2015-03-02 09:05:58+08:00   125845680811480_866202600109114   \n",
       "2015-03-02 21:01:11+08:00   125845680811480_866598870069487   \n",
       "2015-03-04 21:06:12+08:00   125845680811480_867713179958056   \n",
       "2015-03-05 20:34:20+08:00   125845680811480_868546676541373   \n",
       "2015-03-06 09:03:12+08:00   125845680811480_868834393179268   \n",
       "2015-03-06 12:19:07+08:00   125845680811480_868892703173437   \n",
       "2015-03-06 21:50:00+08:00   125845680811480_869211796474861   \n",
       "2015-03-07 11:07:07+08:00   125845680811480_869406209788753   \n",
       "2015-03-08 09:04:20+08:00   125845680811480_869848606411180   \n",
       "2015-03-08 11:02:51+08:00   125845680811480_869882376407803   \n",
       "2015-03-09 20:50:00+08:00   125845680811480_870778776318163   \n",
       "2015-03-11 11:02:09+08:00   125845680811480_871684739560900   \n",
       "2015-03-13 09:07:02+08:00   125845680811480_872930906102950   \n",
       "2015-03-13 11:42:58+08:00   125845680811480_872980659431308   \n",
       "2015-03-14 09:26:00+08:00   125845680811480_873591119370262   \n",
       "2015-03-14 20:00:04+08:00   125845680811480_873961275999913   \n",
       "2015-03-15 11:05:27+08:00   125845680811480_874306352632072   \n",
       "2015-03-16 09:02:53+08:00   125845680811480_875098455886195   \n",
       "2015-03-17 11:01:00+08:00   125845680811480_876125649116809   \n",
       "2015-03-17 13:46:22+08:00   125845680811480_876337652428942   \n",
       "2015-03-18 13:26:02+08:00   125845680811480_877050765690964   \n",
       "2015-03-18 18:00:00+08:00   125845680811480_877229355673105   \n",
       "2015-03-18 18:05:32+08:00   125845680811480_877229372339770   \n",
       "2015-03-20 12:12:51+08:00   125845680811480_878807555515285   \n",
       "2015-03-20 18:02:35+08:00   125845680811480_878953398834034   \n",
       "2015-03-21 12:05:57+08:00   125845680811480_879409395455101   \n",
       "2015-03-22 11:22:49+08:00   125845680811480_880375655358475   \n",
       "2015-03-23 04:07:13+08:00   125845680811480_880827218646652   \n",
       "2015-03-23 04:16:17+08:00   125845680811480_880833611979346   \n",
       "2015-03-23 05:12:00+08:00   125845680811480_881404371922270   \n",
       "2015-03-23 05:29:28+08:00   125845680811480_880888481973859   \n",
       "2015-03-23 06:53:56+08:00   125845680811480_880956571967050   \n",
       "2015-03-23 07:12:45+08:00   125845680811480_880977195298321   \n",
       "2015-03-23 09:01:43+08:00   125845680811480_881068431955864   \n",
       "2015-03-23 09:50:12+08:00   125845680811480_881107598618614   \n",
       "2015-03-23 12:00:00+08:00   125845680811480_882035275192513   \n",
       "2015-03-23 20:11:21+08:00   125845680811480_881404135255627   \n",
       "2015-03-24 10:07:43+08:00   125845680811480_881823051880402   \n",
       "2015-03-24 12:00:00+08:00  125845680811480_1070962919633080   \n",
       "2015-03-25 11:56:48+08:00   125845680811480_882497635146277   \n",
       "2015-03-25 19:28:23+08:00   125845680811480_882737888455585   \n",
       "2015-03-25 22:09:52+08:00   125845680811480_882809098448464   \n",
       "2015-03-26 15:42:46+08:00   125845680811480_883251555070885   \n",
       "2015-03-26 19:20:00+08:00   125845680811480_883441685051872   \n",
       "2015-03-27 14:05:01+08:00   125845680811480_883961254999915   \n",
       "2015-03-27 15:23:48+08:00   125845680811480_883981488331225   \n",
       "2015-03-28 10:13:50+08:00   125845680811480_884429421619765   \n",
       "2015-03-28 14:16:25+08:00   125845680811480_884610691601638   \n",
       "2015-03-28 15:50:00+08:00   125845680811480_884637454932295   \n",
       "2015-03-29 10:01:26+08:00   125845680811480_885291354866905   \n",
       "2015-03-29 11:33:16+08:00   125845680811480_885330268196347   \n",
       "2015-03-29 23:42:44+08:00   125845680811480_885634014832639   \n",
       "2015-03-30 01:29:21+08:00   125845680811480_885671528162221   \n",
       "2015-03-30 09:47:25+08:00   125845680811480_885908348138539   \n",
       "2015-03-30 09:49:10+08:00   125845680811480_885909158138458   \n",
       "2015-03-30 18:22:35+08:00   125845680811480_886093948119979   \n",
       "2015-03-30 18:23:46+08:00   125845680811480_886094944786546   \n",
       "2015-03-31 16:39:10+08:00   125845680811480_886558878073486   \n",
       "\n",
       "                                                                     message  \\\n",
       "created_time                                                                   \n",
       "2015-03-02 09:05:58+08:00  A-level results are out today. To students col...   \n",
       "2015-03-02 21:01:11+08:00  Joined Dr Tony Tan, Mrs Mary Tan, Goh Chok Ton...   \n",
       "2015-03-04 21:06:12+08:00  The Budget debate began yesterday. NMP Chia Yo...   \n",
       "2015-03-05 20:34:20+08:00  In the Budget debate yesterday, NTUC Secretary...   \n",
       "2015-03-06 09:03:12+08:00  STATEMENT FROM THE PRIME MINISTER’S OFFICE ON ...   \n",
       "2015-03-06 12:19:07+08:00  Upper Peirce Reservoir, taken on an evening wa...   \n",
       "2015-03-06 21:50:00+08:00  “Never take our peace for granted. A strong de...   \n",
       "2015-03-07 11:07:07+08:00  Met religious leaders over two lunches this we...   \n",
       "2015-03-08 09:04:20+08:00  At my National Day Rally last year, I announce...   \n",
       "2015-03-08 11:02:51+08:00  Catching up with old friend Eric Chu, New Taip...   \n",
       "2015-03-09 20:50:00+08:00  Can the CPF help us to save enough for our ret...   \n",
       "2015-03-11 11:02:09+08:00  Can you spot Mr Lee Kuan Yew in these old phot...   \n",
       "2015-03-13 09:07:02+08:00  STATEMENT FROM THE PRIME MINISTER’S OFFICE\\nON...   \n",
       "2015-03-13 11:42:58+08:00  In the month since Mr Lee Kuan Yew was admitte...   \n",
       "2015-03-14 09:26:00+08:00  International Pi (π) Day is unofficially celeb...   \n",
       "2015-03-14 20:00:04+08:00  Took this pic on a walk 2 weeks ago. I first s...   \n",
       "2015-03-15 11:05:27+08:00  People may think of Singapore as a concrete ju...   \n",
       "2015-03-16 09:02:53+08:00  The March school holidays are here! Hope that ...   \n",
       "2015-03-17 11:01:00+08:00  It’s never too late for one more yu sheng! Cel...   \n",
       "2015-03-17 13:46:22+08:00  STATEMENT FROM THE PRIME MINISTER’S OFFICE ON ...   \n",
       "2015-03-18 13:26:02+08:00  STATEMENT FROM THE PRIME MINISTER’S OFFICE  ON...   \n",
       "2015-03-18 18:00:00+08:00                              (MCI Photo by LH Goh)   \n",
       "2015-03-18 18:05:32+08:00                              (MCI Photo by LH Goh)   \n",
       "2015-03-20 12:12:51+08:00  STATEMENT FROM THE PRIME MINISTER’S OFFICE ON ...   \n",
       "2015-03-20 18:02:35+08:00  Thank you all for your good wishes and prayers...   \n",
       "2015-03-21 12:05:57+08:00  STATEMENT FROM THE PRIME MINISTER’S OFFICE ON ...   \n",
       "2015-03-22 11:22:49+08:00  STATEMENT FROM THE PRIME MINISTER’S OFFICE ON ...   \n",
       "2015-03-23 04:07:13+08:00  STATEMENT FROM THE PRIME MINISTER’S OFFICE\\n\\n...   \n",
       "2015-03-23 04:16:17+08:00  Lee Kuan Yew, 23 November 2004. \\n\\n(Photo by ...   \n",
       "2015-03-23 05:12:00+08:00                              (MCI Photo by LH Goh)   \n",
       "2015-03-23 05:29:28+08:00  Lee Kuan Yew, 23 November 2004.\\n\\n(Photo by T...   \n",
       "2015-03-23 06:53:56+08:00  STATEMENT FROM THE PRIME MINISTER’S OFFICE\\n\\n...   \n",
       "2015-03-23 07:12:45+08:00  PM Lee will address the nation at 8am today. T...   \n",
       "2015-03-23 09:01:43+08:00  PM Lee addressed the nation this morning at 8a...   \n",
       "2015-03-23 09:50:12+08:00  STATEMENT FROM THE PRIME MINISTER’S OFFICE ON ...   \n",
       "2015-03-23 12:00:00+08:00  The Sultan of Brunei was a very old friend of ...   \n",
       "2015-03-23 20:11:21+08:00                              (MCI Photo by LH Goh)   \n",
       "2015-03-24 10:07:43+08:00  Henry Kissinger was an old and close friend of...   \n",
       "2015-03-24 12:00:00+08:00  Thanks to NParks for naming a new orchid in ho...   \n",
       "2015-03-25 11:56:48+08:00                                               None   \n",
       "2015-03-25 19:28:23+08:00  Mr Lee Kuan Yew’s body was brought from Sri Te...   \n",
       "2015-03-25 22:09:52+08:00  A beautiful rendition of “Home” by the choir o...   \n",
       "2015-03-26 15:42:46+08:00  Parliament will have a special sitting at 4pm ...   \n",
       "2015-03-26 19:20:00+08:00  My parents at the Bridge of Sighs in Cambridge...   \n",
       "2015-03-27 14:05:01+08:00  We have long been close friends with New Zeala...   \n",
       "2015-03-27 15:23:48+08:00  I am deeply moved by the overwhelming response...   \n",
       "2015-03-28 10:13:50+08:00  My thanks to Rani Singam, Jeremy Monteiro, and...   \n",
       "2015-03-28 14:16:25+08:00  A feisty and witty article. My father would ha...   \n",
       "2015-03-28 15:50:00+08:00  Part of the medical team that looked after my ...   \n",
       "2015-03-29 10:01:26+08:00  Since my father passed away, Singaporeans have...   \n",
       "2015-03-29 11:33:16+08:00  The Funeral Service for the late Mr Lee Kuan Y...   \n",
       "2015-03-29 23:42:44+08:00  The State Funeral Service for the late Mr Lee ...   \n",
       "2015-03-30 01:29:21+08:00  After the State Funeral Service, my father’s c...   \n",
       "2015-03-30 09:47:25+08:00                           MCI Photo by Terence Tan   \n",
       "2015-03-30 09:49:10+08:00  Snapped this pic of the Kallang Basin when I v...   \n",
       "2015-03-30 18:22:35+08:00  Life is better when it is short, healthy and full   \n",
       "2015-03-30 18:23:46+08:00  In my eulogy at the private service at Mandai ...   \n",
       "2015-03-31 16:39:10+08:00  Beautifully captured and narrated. Thank you m...   \n",
       "\n",
       "                           share_count           status_type  \\\n",
       "created_time                                                   \n",
       "2015-03-02 09:05:58+08:00        307.0          added_photos   \n",
       "2015-03-02 21:01:11+08:00        173.0          added_photos   \n",
       "2015-03-04 21:06:12+08:00       1826.0           added_video   \n",
       "2015-03-05 20:34:20+08:00        224.0          added_photos   \n",
       "2015-03-06 09:03:12+08:00        248.0  mobile_status_update   \n",
       "2015-03-06 12:19:07+08:00        165.0          added_photos   \n",
       "2015-03-06 21:50:00+08:00        423.0           added_video   \n",
       "2015-03-07 11:07:07+08:00        488.0          added_photos   \n",
       "2015-03-08 09:04:20+08:00          NaN          shared_story   \n",
       "2015-03-08 11:02:51+08:00        259.0          added_photos   \n",
       "2015-03-09 20:50:00+08:00        445.0           added_video   \n",
       "2015-03-11 11:02:09+08:00        345.0          added_photos   \n",
       "2015-03-13 09:07:02+08:00        185.0  mobile_status_update   \n",
       "2015-03-13 11:42:58+08:00        431.0          added_photos   \n",
       "2015-03-14 09:26:00+08:00       2071.0          shared_story   \n",
       "2015-03-14 20:00:04+08:00        383.0          added_photos   \n",
       "2015-03-15 11:05:27+08:00        415.0          shared_story   \n",
       "2015-03-16 09:02:53+08:00        146.0          added_photos   \n",
       "2015-03-17 11:01:00+08:00        188.0          added_photos   \n",
       "2015-03-17 13:46:22+08:00       1577.0  mobile_status_update   \n",
       "2015-03-18 13:26:02+08:00       4001.0          added_photos   \n",
       "2015-03-18 18:00:00+08:00        757.0          added_photos   \n",
       "2015-03-18 18:05:32+08:00        757.0          added_photos   \n",
       "2015-03-20 12:12:51+08:00       1304.0          added_photos   \n",
       "2015-03-20 18:02:35+08:00       7748.0          added_photos   \n",
       "2015-03-21 12:05:57+08:00       3373.0          added_photos   \n",
       "2015-03-22 11:22:49+08:00       1977.0          added_photos   \n",
       "2015-03-23 04:07:13+08:00      39271.0          added_photos   \n",
       "2015-03-23 04:16:17+08:00       5976.0          added_photos   \n",
       "2015-03-23 05:12:00+08:00       1047.0          added_photos   \n",
       "2015-03-23 05:29:28+08:00      12255.0          added_photos   \n",
       "2015-03-23 06:53:56+08:00          2.0          shared_story   \n",
       "2015-03-23 07:12:45+08:00       1030.0  mobile_status_update   \n",
       "2015-03-23 09:01:43+08:00      60946.0           added_video   \n",
       "2015-03-23 09:50:12+08:00       4387.0          added_photos   \n",
       "2015-03-23 12:00:00+08:00        471.0          added_photos   \n",
       "2015-03-23 20:11:21+08:00       1047.0          added_photos   \n",
       "2015-03-24 10:07:43+08:00       5572.0          shared_story   \n",
       "2015-03-24 12:00:00+08:00       3479.0          added_photos   \n",
       "2015-03-25 11:56:48+08:00          NaN          shared_story   \n",
       "2015-03-25 19:28:23+08:00      12865.0           added_video   \n",
       "2015-03-25 22:09:52+08:00      16894.0           added_video   \n",
       "2015-03-26 15:42:46+08:00        682.0          shared_story   \n",
       "2015-03-26 19:20:00+08:00      18919.0          added_photos   \n",
       "2015-03-27 14:05:01+08:00       1345.0          shared_story   \n",
       "2015-03-27 15:23:48+08:00       6113.0          shared_story   \n",
       "2015-03-28 10:13:50+08:00      14665.0           added_video   \n",
       "2015-03-28 14:16:25+08:00       5329.0          shared_story   \n",
       "2015-03-28 15:50:00+08:00       1426.0          added_photos   \n",
       "2015-03-29 10:01:26+08:00      10702.0          added_photos   \n",
       "2015-03-29 11:33:16+08:00       2021.0          shared_story   \n",
       "2015-03-29 23:42:44+08:00       1214.0          shared_story   \n",
       "2015-03-30 01:29:21+08:00      15510.0           added_video   \n",
       "2015-03-30 09:47:25+08:00       2164.0          added_photos   \n",
       "2015-03-30 09:49:10+08:00        821.0          added_photos   \n",
       "2015-03-30 18:22:35+08:00       2952.0          created_note   \n",
       "2015-03-30 18:23:46+08:00          6.0          shared_story   \n",
       "2015-03-31 16:39:10+08:00       4328.0          shared_story   \n",
       "\n",
       "                                                                       story  \n",
       "created_time                                                                  \n",
       "2015-03-02 09:05:58+08:00                                               None  \n",
       "2015-03-02 21:01:11+08:00                                               None  \n",
       "2015-03-04 21:06:12+08:00                                               None  \n",
       "2015-03-05 20:34:20+08:00                                               None  \n",
       "2015-03-06 09:03:12+08:00                                               None  \n",
       "2015-03-06 12:19:07+08:00         Lee Hsien Loong updated their cover photo.  \n",
       "2015-03-06 21:50:00+08:00                                               None  \n",
       "2015-03-07 11:07:07+08:00  Lee Hsien Loong with Rajakanth Raman and 4 oth...  \n",
       "2015-03-08 09:04:20+08:00     Lee Hsien Loong shared Yaacob Ibrahim's album.  \n",
       "2015-03-08 11:02:51+08:00                                               None  \n",
       "2015-03-09 20:50:00+08:00                                               None  \n",
       "2015-03-11 11:02:09+08:00                                               None  \n",
       "2015-03-13 09:07:02+08:00                                               None  \n",
       "2015-03-13 11:42:58+08:00                                               None  \n",
       "2015-03-14 09:26:00+08:00                                               None  \n",
       "2015-03-14 20:00:04+08:00                                               None  \n",
       "2015-03-15 11:05:27+08:00                                               None  \n",
       "2015-03-16 09:02:53+08:00                                               None  \n",
       "2015-03-17 11:01:00+08:00                                               None  \n",
       "2015-03-17 13:46:22+08:00                                               None  \n",
       "2015-03-18 13:26:02+08:00                                               None  \n",
       "2015-03-18 18:00:00+08:00                 Lee Hsien Loong added a new photo.  \n",
       "2015-03-18 18:05:32+08:00     Lee Hsien Loong updated their profile picture.  \n",
       "2015-03-20 12:12:51+08:00                                               None  \n",
       "2015-03-20 18:02:35+08:00                   Lee Hsien Loong with Devian Shu.  \n",
       "2015-03-21 12:05:57+08:00                                               None  \n",
       "2015-03-22 11:22:49+08:00                                               None  \n",
       "2015-03-23 04:07:13+08:00                                               None  \n",
       "2015-03-23 04:16:17+08:00         Lee Hsien Loong updated their cover photo.  \n",
       "2015-03-23 05:12:00+08:00                 Lee Hsien Loong added a new photo.  \n",
       "2015-03-23 05:29:28+08:00         Lee Hsien Loong updated their cover photo.  \n",
       "2015-03-23 06:53:56+08:00                     Lee Hsien Loong shared a Page.  \n",
       "2015-03-23 07:12:45+08:00                                               None  \n",
       "2015-03-23 09:01:43+08:00                         Lee Hsien Loong at Istana.  \n",
       "2015-03-23 09:50:12+08:00                                               None  \n",
       "2015-03-23 12:00:00+08:00  Lee Hsien Loong added a new photo to the album...  \n",
       "2015-03-23 20:11:21+08:00     Lee Hsien Loong updated their profile picture.  \n",
       "2015-03-24 10:07:43+08:00                                               None  \n",
       "2015-03-24 12:00:00+08:00                                               None  \n",
       "2015-03-25 11:56:48+08:00  Lee Hsien Loong shared Remembering Lee Kuan Ye...  \n",
       "2015-03-25 19:28:23+08:00                                               None  \n",
       "2015-03-25 22:09:52+08:00                                               None  \n",
       "2015-03-26 15:42:46+08:00                                               None  \n",
       "2015-03-26 19:20:00+08:00  Lee Hsien Loong with Lim Tong Nam and Lee Chin...  \n",
       "2015-03-27 14:05:01+08:00                                               None  \n",
       "2015-03-27 15:23:48+08:00                                               None  \n",
       "2015-03-28 10:13:50+08:00                                               None  \n",
       "2015-03-28 14:16:25+08:00                                               None  \n",
       "2015-03-28 15:50:00+08:00                  Lee Hsien Loong with Vivian Kang.  \n",
       "2015-03-29 10:01:26+08:00                                               None  \n",
       "2015-03-29 11:33:16+08:00                                               None  \n",
       "2015-03-29 23:42:44+08:00                                               None  \n",
       "2015-03-30 01:29:21+08:00                                               None  \n",
       "2015-03-30 09:47:25+08:00     Lee Hsien Loong updated their profile picture.  \n",
       "2015-03-30 09:49:10+08:00         Lee Hsien Loong updated their cover photo.  \n",
       "2015-03-30 18:22:35+08:00                  Lee Hsien Loong published a note.  \n",
       "2015-03-30 18:23:46+08:00                 Lee Hsien Loong shared their note.  \n",
       "2015-03-31 16:39:10+08:00                                               None  "
      ]
     },
     "execution_count": 21,
     "metadata": {},
     "output_type": "execute_result"
    }
   ],
   "source": [
    "fb['2015-03']"
   ]
  },
  {
   "cell_type": "markdown",
   "metadata": {},
   "source": [
    "### Let's see if we can predict the popularity of FB posts"
   ]
  },
  {
   "cell_type": "markdown",
   "metadata": {},
   "source": [
    "#### Plot a boxplot of share count, adjust the axis limits as necessary "
   ]
  },
  {
   "cell_type": "code",
   "execution_count": 22,
   "metadata": {},
   "outputs": [
    {
     "data": {
      "text/plain": [
       "(0, 1000)"
      ]
     },
     "execution_count": 22,
     "metadata": {},
     "output_type": "execute_result"
    },
    {
     "data": {
      "image/png": "[encoded data removed]",
      "text/plain": [
       "<matplotlib.figure.Figure at 0x118870e90>"
      ]
     },
     "metadata": {},
     "output_type": "display_data"
    }
   ],
   "source": [
    "plt.figure(figsize=(12,4))\n",
    "sb.boxplot(\"share_count\", data=fb)\n",
    "plt.xlim(0,1000)"
   ]
  },
  {
   "cell_type": "markdown",
   "metadata": {},
   "source": [
    "#### Let's indicate a popular post as one with share count > 200. Create a new column 'popular' to reflect this"
   ]
  },
  {
   "cell_type": "code",
   "execution_count": 50,
   "metadata": {
    "collapsed": true
   },
   "outputs": [],
   "source": [
    "fb['popular'] = fb['share_count'] > 200"
   ]
  },
  {
   "cell_type": "markdown",
   "metadata": {},
   "source": [
    "#### First replace all null values in the message column with the story column and the remaining null values with an empty string"
   ]
  },
  {
   "cell_type": "code",
   "execution_count": 51,
   "metadata": {
    "collapsed": true
   },
   "outputs": [],
   "source": [
    "fb.message = fb.message.fillna(fb.story)"
   ]
  },
  {
   "cell_type": "code",
   "execution_count": 52,
   "metadata": {
    "collapsed": true
   },
   "outputs": [],
   "source": [
    "fb.message = fb.message.fillna(\"\")"
   ]
  },
  {
   "cell_type": "markdown",
   "metadata": {},
   "source": [
    "#### Next let's split the data into a train and test dataset with posts from 2017 onwards being in the test dataset"
   ]
  },
  {
   "cell_type": "code",
   "execution_count": 53,
   "metadata": {
    "collapsed": true
   },
   "outputs": [],
   "source": [
    "fb_train = fb[:'2016']"
   ]
  },
  {
   "cell_type": "code",
   "execution_count": 54,
   "metadata": {
    "collapsed": true
   },
   "outputs": [],
   "source": [
    "fb_test = fb['2017':]"
   ]
  },
  {
   "cell_type": "code",
   "execution_count": 55,
   "metadata": {},
   "outputs": [
    {
     "data": {
      "text/plain": [
       "(2296, 232)"
      ]
     },
     "execution_count": 55,
     "metadata": {},
     "output_type": "execute_result"
    }
   ],
   "source": [
    "len(fb_train), len(fb_test)"
   ]
  },
  {
   "cell_type": "markdown",
   "metadata": {},
   "source": [
    "#### Initialize a CountVectorizer using english stopwords and with 500 maximum features and ngram range = (1,1)"
   ]
  },
  {
   "cell_type": "code",
   "execution_count": 56,
   "metadata": {
    "collapsed": true
   },
   "outputs": [],
   "source": [
    "from sklearn.feature_extraction.text import CountVectorizer, TfidfVectorizer"
   ]
  },
  {
   "cell_type": "code",
   "execution_count": 57,
   "metadata": {
    "collapsed": true
   },
   "outputs": [],
   "source": [
    "cv = CountVectorizer(stop_words = 'english', max_features = 500, ngram_range=(1,1))"
   ]
  },
  {
   "cell_type": "code",
   "execution_count": 58,
   "metadata": {
    "collapsed": true
   },
   "outputs": [],
   "source": [
    "#cv = TfidfVectorizer(stop_words='english', max_features = 500, ngram_range=(1,1))"
   ]
  },
  {
   "cell_type": "markdown",
   "metadata": {},
   "source": [
    "#### Fit and transform the message column of the training dataset with the CountVectorizer"
   ]
  },
  {
   "cell_type": "code",
   "execution_count": 59,
   "metadata": {
    "collapsed": true
   },
   "outputs": [],
   "source": [
    "train_words = cv.fit_transform(fb_train.message)"
   ]
  },
  {
   "cell_type": "code",
   "execution_count": 60,
   "metadata": {},
   "outputs": [
    {
     "data": {
      "text/plain": [
       "(2296, 500)"
      ]
     },
     "execution_count": 60,
     "metadata": {},
     "output_type": "execute_result"
    }
   ],
   "source": [
    "train_words.shape"
   ]
  },
  {
   "cell_type": "markdown",
   "metadata": {},
   "source": [
    "#### Using the same CountVectorizer, transform the message column of the test dataset "
   ]
  },
  {
   "cell_type": "code",
   "execution_count": 61,
   "metadata": {
    "collapsed": true
   },
   "outputs": [],
   "source": [
    "test_words = cv.transform(fb_test.message)"
   ]
  },
  {
   "cell_type": "code",
   "execution_count": 62,
   "metadata": {},
   "outputs": [
    {
     "data": {
      "text/plain": [
       "(232, 500)"
      ]
     },
     "execution_count": 62,
     "metadata": {},
     "output_type": "execute_result"
    }
   ],
   "source": [
    "test_words.shape"
   ]
  },
  {
   "cell_type": "markdown",
   "metadata": {},
   "source": [
    "#### lnitialize a RandomForestClassifier with max depth of 5 number of estimators 10 and min samples per leaf 5 and random_state = 8"
   ]
  },
  {
   "cell_type": "code",
   "execution_count": 63,
   "metadata": {
    "collapsed": true
   },
   "outputs": [],
   "source": [
    "from sklearn.ensemble import RandomForestClassifier"
   ]
  },
  {
   "cell_type": "code",
   "execution_count": 64,
   "metadata": {
    "collapsed": true
   },
   "outputs": [],
   "source": [
    "model = RandomForestClassifier(max_depth = 5, n_estimators = 10, min_samples_leaf = 5, random_state=8)"
   ]
  },
  {
   "cell_type": "markdown",
   "metadata": {},
   "source": [
    "#### Fit the classifier using the bag of words as the independent variable / predictors and popular as the dependent variable we want to predict "
   ]
  },
  {
   "cell_type": "code",
   "execution_count": 65,
   "metadata": {},
   "outputs": [
    {
     "data": {
      "text/plain": [
       "RandomForestClassifier(bootstrap=True, class_weight=None, criterion='gini',\n",
       "            max_depth=5, max_features='auto', max_leaf_nodes=None,\n",
       "            min_impurity_split=1e-07, min_samples_leaf=5,\n",
       "            min_samples_split=2, min_weight_fraction_leaf=0.0,\n",
       "            n_estimators=10, n_jobs=1, oob_score=False, random_state=8,\n",
       "            verbose=0, warm_start=False)"
      ]
     },
     "execution_count": 65,
     "metadata": {},
     "output_type": "execute_result"
    }
   ],
   "source": [
    "model.fit(train_words, fb_train.popular)"
   ]
  },
  {
   "cell_type": "markdown",
   "metadata": {},
   "source": [
    "#### Which words have the highest feature importances? "
   ]
  },
  {
   "cell_type": "code",
   "execution_count": 66,
   "metadata": {
    "collapsed": true
   },
   "outputs": [],
   "source": [
    "features = cv.get_feature_names()\n",
    "feature_importances = model.feature_importances_\n",
    "\n",
    "features_df = pd.DataFrame({'Features': features, 'Importance Score': feature_importances})\n",
    "features_df.sort_values('Importance Score', inplace=True, ascending=False)"
   ]
  },
  {
   "cell_type": "code",
   "execution_count": 67,
   "metadata": {},
   "outputs": [
    {
     "data": {
      "text/html": [
       "<div>\n",
       "<style>\n",
       "    .dataframe thead tr:only-child th {\n",
       "        text-align: right;\n",
       "    }\n",
       "\n",
       "    .dataframe thead th {\n",
       "        text-align: left;\n",
       "    }\n",
       "\n",
       "    .dataframe tbody tr th {\n",
       "        vertical-align: top;\n",
       "    }\n",
       "</style>\n",
       "<table border=\"1\" class=\"dataframe\">\n",
       "  <thead>\n",
       "    <tr style=\"text-align: right;\">\n",
       "      <th></th>\n",
       "      <th>Features</th>\n",
       "      <th>Importance Score</th>\n",
       "    </tr>\n",
       "  </thead>\n",
       "  <tbody>\n",
       "    <tr>\n",
       "      <th>242</th>\n",
       "      <td>lhl</td>\n",
       "      <td>0.089595</td>\n",
       "    </tr>\n",
       "    <tr>\n",
       "      <th>462</th>\n",
       "      <td>video</td>\n",
       "      <td>0.072307</td>\n",
       "    </tr>\n",
       "    <tr>\n",
       "      <th>229</th>\n",
       "      <td>kuan</td>\n",
       "      <td>0.045114</td>\n",
       "    </tr>\n",
       "    <tr>\n",
       "      <th>278</th>\n",
       "      <td>mica</td>\n",
       "      <td>0.044305</td>\n",
       "    </tr>\n",
       "    <tr>\n",
       "      <th>66</th>\n",
       "      <td>chiez</td>\n",
       "      <td>0.042176</td>\n",
       "    </tr>\n",
       "    <tr>\n",
       "      <th>362</th>\n",
       "      <td>river</td>\n",
       "      <td>0.041988</td>\n",
       "    </tr>\n",
       "    <tr>\n",
       "      <th>480</th>\n",
       "      <td>went</td>\n",
       "      <td>0.033531</td>\n",
       "    </tr>\n",
       "    <tr>\n",
       "      <th>392</th>\n",
       "      <td>singapore</td>\n",
       "      <td>0.032482</td>\n",
       "    </tr>\n",
       "    <tr>\n",
       "      <th>412</th>\n",
       "      <td>state</td>\n",
       "      <td>0.031766</td>\n",
       "    </tr>\n",
       "    <tr>\n",
       "      <th>437</th>\n",
       "      <td>terrorism</td>\n",
       "      <td>0.028670</td>\n",
       "    </tr>\n",
       "  </tbody>\n",
       "</table>\n",
       "</div>"
      ],
      "text/plain": [
       "      Features  Importance Score\n",
       "242        lhl          0.089595\n",
       "462      video          0.072307\n",
       "229       kuan          0.045114\n",
       "278       mica          0.044305\n",
       "66       chiez          0.042176\n",
       "362      river          0.041988\n",
       "480       went          0.033531\n",
       "392  singapore          0.032482\n",
       "412      state          0.031766\n",
       "437  terrorism          0.028670"
      ]
     },
     "execution_count": 67,
     "metadata": {},
     "output_type": "execute_result"
    }
   ],
   "source": [
    "features_df.head(10)"
   ]
  },
  {
   "cell_type": "markdown",
   "metadata": {},
   "source": [
    "#### Calculate the roc_auc_score for predictions on the test dataset"
   ]
  },
  {
   "cell_type": "code",
   "execution_count": 71,
   "metadata": {
    "collapsed": true
   },
   "outputs": [],
   "source": [
    "from sklearn.metrics import roc_auc_score"
   ]
  },
  {
   "cell_type": "code",
   "execution_count": 72,
   "metadata": {
    "collapsed": true
   },
   "outputs": [],
   "source": [
    "predictions = model.predict(test_words)"
   ]
  },
  {
   "cell_type": "code",
   "execution_count": 73,
   "metadata": {},
   "outputs": [
    {
     "data": {
      "text/plain": [
       "0.54161013116237"
      ]
     },
     "execution_count": 73,
     "metadata": {},
     "output_type": "execute_result"
    }
   ],
   "source": [
    "roc_auc_score(predictions, fb_test.popular)"
   ]
  },
  {
   "cell_type": "markdown",
   "metadata": {},
   "source": [
    "### Let's re-implement the model using pipelines and GridSearchCV\n",
    "#### Create a pipeline with two stages, the first being the count vectorizer and the second the random forest classifier"
   ]
  },
  {
   "cell_type": "code",
   "execution_count": 74,
   "metadata": {
    "collapsed": true
   },
   "outputs": [],
   "source": [
    "from sklearn.pipeline import Pipeline\n",
    "\n",
    "pipeline = Pipeline([\n",
    "        ('features', cv),\n",
    "        ('model', model)   \n",
    "    ])"
   ]
  },
  {
   "cell_type": "markdown",
   "metadata": {},
   "source": [
    "#### Fit the pipeline using the training dataset "
   ]
  },
  {
   "cell_type": "code",
   "execution_count": 75,
   "metadata": {},
   "outputs": [
    {
     "data": {
      "text/plain": [
       "Pipeline(steps=[('features', CountVectorizer(analyzer=u'word', binary=False, decode_error=u'strict',\n",
       "        dtype=<type 'numpy.int64'>, encoding=u'utf-8', input=u'content',\n",
       "        lowercase=True, max_df=1.0, max_features=500, min_df=1,\n",
       "        ngram_range=(1, 1), preprocessor=None, stop_words='english',\n",
       "  ...estimators=10, n_jobs=1, oob_score=False, random_state=8,\n",
       "            verbose=0, warm_start=False))])"
      ]
     },
     "execution_count": 75,
     "metadata": {},
     "output_type": "execute_result"
    }
   ],
   "source": [
    "pipeline.fit(fb_train.message, fb_train.popular)"
   ]
  },
  {
   "cell_type": "markdown",
   "metadata": {},
   "source": [
    "#### Use the pipeline to make predictions on the test dataset and calculate the roc_auc_score"
   ]
  },
  {
   "cell_type": "code",
   "execution_count": 76,
   "metadata": {
    "collapsed": true
   },
   "outputs": [],
   "source": [
    "predictions = pipeline.predict(fb_test.message)"
   ]
  },
  {
   "cell_type": "code",
   "execution_count": 77,
   "metadata": {},
   "outputs": [
    {
     "data": {
      "text/plain": [
       "0.54161013116237"
      ]
     },
     "execution_count": 77,
     "metadata": {},
     "output_type": "execute_result"
    }
   ],
   "source": [
    "roc_auc_score(predictions, fb_test.popular)"
   ]
  },
  {
   "cell_type": "markdown",
   "metadata": {},
   "source": [
    "#### Initialize a GridSearch CV using the pipeline as the estimator, and passing it a set of parameters with varying values for parameters such as max_features, n_estimators, max_depth. Specify the scoring function as 'roc_auc'. For cross validation, initialize and use KFold with 5 splits and shuffle = True"
   ]
  },
  {
   "cell_type": "code",
   "execution_count": 78,
   "metadata": {
    "collapsed": true
   },
   "outputs": [],
   "source": [
    "from sklearn.model_selection import GridSearchCV, KFold"
   ]
  },
  {
   "cell_type": "code",
   "execution_count": 79,
   "metadata": {
    "collapsed": true
   },
   "outputs": [],
   "source": [
    "kf = KFold(n_splits=5, shuffle=True, random_state=10)"
   ]
  },
  {
   "cell_type": "code",
   "execution_count": 87,
   "metadata": {
    "collapsed": true
   },
   "outputs": [],
   "source": [
    "fit_params = {\n",
    "    'features__max_features': [2000, 3000],\n",
    "    'features__ngram_range': [(1, 2), (1,1)],\n",
    "    'model__n_estimators': [40, 50],\n",
    "    'model__max_depth': [30, 40],\n",
    "    'model__min_samples_leaf': [2, 5]\n",
    "}\n",
    "gcv = GridSearchCV(pipeline, fit_params, cv=kf, scoring='roc_auc', n_jobs=4)"
   ]
  },
  {
   "cell_type": "markdown",
   "metadata": {},
   "source": [
    "#### Fit the GridSearchCV using the training data and identify the best estimator"
   ]
  },
  {
   "cell_type": "code",
   "execution_count": 88,
   "metadata": {},
   "outputs": [
    {
     "data": {
      "text/plain": [
       "GridSearchCV(cv=KFold(n_splits=5, random_state=10, shuffle=True),\n",
       "       error_score='raise',\n",
       "       estimator=Pipeline(steps=[('features', CountVectorizer(analyzer=u'word', binary=False, decode_error=u'strict',\n",
       "        dtype=<type 'numpy.int64'>, encoding=u'utf-8', input=u'content',\n",
       "        lowercase=True, max_df=1.0, max_features=500, min_df=1,\n",
       "        ngram_range=(1, 1), preprocessor=None, stop_words='english',\n",
       "  ...estimators=10, n_jobs=1, oob_score=False, random_state=8,\n",
       "            verbose=0, warm_start=False))]),\n",
       "       fit_params={}, iid=True, n_jobs=4,\n",
       "       param_grid={'features__max_features': [2000, 3000], 'model__max_depth': [30, 40], 'model__min_samples_leaf': [2, 5], 'model__n_estimators': [40, 50], 'features__ngram_range': [(1, 2), (1, 1)]},\n",
       "       pre_dispatch='2*n_jobs', refit=True, return_train_score=True,\n",
       "       scoring='roc_auc', verbose=0)"
      ]
     },
     "execution_count": 88,
     "metadata": {},
     "output_type": "execute_result"
    }
   ],
   "source": [
    "gcv.fit(fb_train.message, fb_train.popular)"
   ]
  },
  {
   "cell_type": "markdown",
   "metadata": {},
   "source": [
    "#### What is the score for the best estimator?"
   ]
  },
  {
   "cell_type": "code",
   "execution_count": 89,
   "metadata": {},
   "outputs": [
    {
     "data": {
      "text/plain": [
       "0.77799117014286467"
      ]
     },
     "execution_count": 89,
     "metadata": {},
     "output_type": "execute_result"
    }
   ],
   "source": [
    "gcv.best_score_"
   ]
  },
  {
   "cell_type": "code",
   "execution_count": 90,
   "metadata": {},
   "outputs": [
    {
     "data": {
      "text/plain": [
       "{'features__max_features': 3000,\n",
       " 'features__ngram_range': (1, 2),\n",
       " 'model__max_depth': 40,\n",
       " 'model__min_samples_leaf': 2,\n",
       " 'model__n_estimators': 50}"
      ]
     },
     "execution_count": 90,
     "metadata": {},
     "output_type": "execute_result"
    }
   ],
   "source": [
    "gcv.best_params_"
   ]
  },
  {
   "cell_type": "code",
   "execution_count": 96,
   "metadata": {},
   "outputs": [
    {
     "data": {
      "text/plain": [
       "Pipeline(steps=[('features', CountVectorizer(analyzer=u'word', binary=False, decode_error=u'strict',\n",
       "        dtype=<type 'numpy.int64'>, encoding=u'utf-8', input=u'content',\n",
       "        lowercase=True, max_df=1.0, max_features=3000, min_df=1,\n",
       "        ngram_range=(1, 2), preprocessor=None, stop_words='english',\n",
       " ...estimators=50, n_jobs=1, oob_score=False, random_state=8,\n",
       "            verbose=0, warm_start=False))])"
      ]
     },
     "execution_count": 96,
     "metadata": {},
     "output_type": "execute_result"
    }
   ],
   "source": [
    "gcv.best_estimator_.fit(fb_train.message, fb_train.popular)"
   ]
  },
  {
   "cell_type": "code",
   "execution_count": 97,
   "metadata": {
    "collapsed": true
   },
   "outputs": [],
   "source": [
    "preds = gcv.best_estimator_.predict(fb_test.message)"
   ]
  },
  {
   "cell_type": "code",
   "execution_count": 98,
   "metadata": {},
   "outputs": [
    {
     "data": {
      "text/plain": [
       "0.62668033720665306"
      ]
     },
     "execution_count": 98,
     "metadata": {},
     "output_type": "execute_result"
    }
   ],
   "source": [
    "roc_auc_score(preds, fb_test.popular)"
   ]
  },
  {
   "cell_type": "markdown",
   "metadata": {},
   "source": [
    "### Bonus: Add other categorical and quantitative features to the model i.e. status_type, character and word counts"
   ]
  },
  {
   "cell_type": "code",
   "execution_count": 110,
   "metadata": {
    "collapsed": true
   },
   "outputs": [],
   "source": [
    "status_dummies = pd.get_dummies(fb.status_type, dummy_na=True, prefix=\"st\")\n",
    "fb_features = pd.concat((fb,status_dummies), axis=1)\n",
    "fb_features['message_character_count'] = fb_features['message'].apply(lambda x: len(x))\n",
    "fb_features['message_word_count'] = fb_features['message'].apply(lambda x: len(x.split()))"
   ]
  },
  {
   "cell_type": "code",
   "execution_count": 111,
   "metadata": {
    "collapsed": true
   },
   "outputs": [],
   "source": [
    "features = list(status_dummies.columns) + ['message_character_count', 'message_word_count']"
   ]
  },
  {
   "cell_type": "code",
   "execution_count": 112,
   "metadata": {
    "collapsed": true
   },
   "outputs": [],
   "source": [
    "fb_train = fb_features[:'2016']\n",
    "fb_test = fb_features['2017':]"
   ]
  },
  {
   "cell_type": "code",
   "execution_count": 103,
   "metadata": {
    "collapsed": true
   },
   "outputs": [],
   "source": [
    "from scipy.sparse import hstack\n",
    "x_train = hstack((train_words, fb_train[features]))\n",
    "x_test = hstack((test_words, fb_test[features]))"
   ]
  },
  {
   "cell_type": "code",
   "execution_count": 120,
   "metadata": {
    "collapsed": true
   },
   "outputs": [],
   "source": [
    "model = RandomForestClassifier(max_depth = 40, n_estimators = 50, min_samples_leaf = 2, random_state = 10)"
   ]
  },
  {
   "cell_type": "code",
   "execution_count": 121,
   "metadata": {},
   "outputs": [
    {
     "data": {
      "text/plain": [
       "RandomForestClassifier(bootstrap=True, class_weight=None, criterion='gini',\n",
       "            max_depth=40, max_features='auto', max_leaf_nodes=None,\n",
       "            min_impurity_split=1e-07, min_samples_leaf=2,\n",
       "            min_samples_split=2, min_weight_fraction_leaf=0.0,\n",
       "            n_estimators=50, n_jobs=1, oob_score=False, random_state=10,\n",
       "            verbose=0, warm_start=False)"
      ]
     },
     "execution_count": 121,
     "metadata": {},
     "output_type": "execute_result"
    }
   ],
   "source": [
    "model.fit(x_train, fb_train.popular)"
   ]
  },
  {
   "cell_type": "code",
   "execution_count": 122,
   "metadata": {
    "collapsed": true
   },
   "outputs": [],
   "source": [
    "preds = model.predict(x_test)"
   ]
  },
  {
   "cell_type": "code",
   "execution_count": 123,
   "metadata": {},
   "outputs": [
    {
     "data": {
      "text/plain": [
       "0.67776434131962815"
      ]
     },
     "execution_count": 123,
     "metadata": {},
     "output_type": "execute_result"
    }
   ],
   "source": [
    "roc_auc_score(preds, fb_test.popular)"
   ]
  },
  {
   "cell_type": "code",
   "execution_count": 124,
   "metadata": {
    "collapsed": true
   },
   "outputs": [],
   "source": [
    "features = cv.get_feature_names() + features\n",
    "feature_importances = model.feature_importances_\n",
    "\n",
    "features_df = pd.DataFrame({'Features': features, 'Importance Score': feature_importances})\n",
    "features_df.sort_values('Importance Score', inplace=True, ascending=False)"
   ]
  },
  {
   "cell_type": "code",
   "execution_count": 125,
   "metadata": {},
   "outputs": [
    {
     "data": {
      "text/html": [
       "<div>\n",
       "<style>\n",
       "    .dataframe thead tr:only-child th {\n",
       "        text-align: right;\n",
       "    }\n",
       "\n",
       "    .dataframe thead th {\n",
       "        text-align: left;\n",
       "    }\n",
       "\n",
       "    .dataframe tbody tr th {\n",
       "        vertical-align: top;\n",
       "    }\n",
       "</style>\n",
       "<table border=\"1\" class=\"dataframe\">\n",
       "  <thead>\n",
       "    <tr style=\"text-align: right;\">\n",
       "      <th></th>\n",
       "      <th>Features</th>\n",
       "      <th>Importance Score</th>\n",
       "    </tr>\n",
       "  </thead>\n",
       "  <tbody>\n",
       "    <tr>\n",
       "      <th>507</th>\n",
       "      <td>message_character_count</td>\n",
       "      <td>0.051800</td>\n",
       "    </tr>\n",
       "    <tr>\n",
       "      <th>501</th>\n",
       "      <td>st_added_video</td>\n",
       "      <td>0.047885</td>\n",
       "    </tr>\n",
       "    <tr>\n",
       "      <th>508</th>\n",
       "      <td>message_word_count</td>\n",
       "      <td>0.039119</td>\n",
       "    </tr>\n",
       "    <tr>\n",
       "      <th>242</th>\n",
       "      <td>lhl</td>\n",
       "      <td>0.033548</td>\n",
       "    </tr>\n",
       "    <tr>\n",
       "      <th>278</th>\n",
       "      <td>mica</td>\n",
       "      <td>0.029747</td>\n",
       "    </tr>\n",
       "    <tr>\n",
       "      <th>505</th>\n",
       "      <td>st_shared_story</td>\n",
       "      <td>0.028671</td>\n",
       "    </tr>\n",
       "    <tr>\n",
       "      <th>269</th>\n",
       "      <td>mci</td>\n",
       "      <td>0.012781</td>\n",
       "    </tr>\n",
       "    <tr>\n",
       "      <th>462</th>\n",
       "      <td>video</td>\n",
       "      <td>0.012419</td>\n",
       "    </tr>\n",
       "    <tr>\n",
       "      <th>229</th>\n",
       "      <td>kuan</td>\n",
       "      <td>0.010486</td>\n",
       "    </tr>\n",
       "    <tr>\n",
       "      <th>500</th>\n",
       "      <td>st_added_photos</td>\n",
       "      <td>0.010321</td>\n",
       "    </tr>\n",
       "  </tbody>\n",
       "</table>\n",
       "</div>"
      ],
      "text/plain": [
       "                    Features  Importance Score\n",
       "507  message_character_count          0.051800\n",
       "501           st_added_video          0.047885\n",
       "508       message_word_count          0.039119\n",
       "242                      lhl          0.033548\n",
       "278                     mica          0.029747\n",
       "505          st_shared_story          0.028671\n",
       "269                      mci          0.012781\n",
       "462                    video          0.012419\n",
       "229                     kuan          0.010486\n",
       "500          st_added_photos          0.010321"
      ]
     },
     "execution_count": 125,
     "metadata": {},
     "output_type": "execute_result"
    }
   ],
   "source": [
    "features_df.head(10)"
   ]
  }
 ],
 "metadata": {
  "anaconda-cloud": {},
  "kernelspec": {
   "display_name": "Python [python2]",
   "language": "python",
   "name": "Python [python2]"
  },
  "language_info": {
   "codemirror_mode": {
    "name": "ipython",
    "version": 2
   },
   "file_extension": ".py",
   "mimetype": "text/x-python",
   "name": "python",
   "nbconvert_exporter": "python",
   "pygments_lexer": "ipython2",
   "version": "2.7.13"
  }
 },
 "nbformat": 4,
 "nbformat_minor": 2
}
