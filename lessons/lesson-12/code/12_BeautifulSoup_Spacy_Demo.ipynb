{
 "cells": [
  {
   "cell_type": "code",
   "execution_count": 4,
   "metadata": {
    "collapsed": true
   },
   "outputs": [],
   "source": [
    "from spacy.en import English\n",
    "nlp = English()"
   ]
  },
  {
   "cell_type": "markdown",
   "metadata": {},
   "source": [
    "### BeautifulSoup\n",
    "https://www.crummy.com/software/BeautifulSoup/bs4/doc/"
   ]
  },
  {
   "cell_type": "code",
   "execution_count": 11,
   "metadata": {
    "collapsed": true
   },
   "outputs": [],
   "source": [
    "from bs4 import BeautifulSoup\n",
    "import urllib2"
   ]
  },
  {
   "cell_type": "code",
   "execution_count": 228,
   "metadata": {
    "collapsed": true
   },
   "outputs": [],
   "source": [
    "def getSoupLink(url):\n",
    "    req = urllib2.Request(url, headers={'User-Agent' : \"Chrome\"}) \n",
    "    con = urllib2.urlopen(req)\n",
    "    page = con.read()\n",
    "    soup = BeautifulSoup(page, \"lxml\")\n",
    "    con.close()\n",
    "    return soup"
   ]
  },
  {
   "cell_type": "code",
   "execution_count": 230,
   "metadata": {},
   "outputs": [
    {
     "name": "stdout",
     "output_type": "stream",
     "text": [
      "http://www.channelnewsasia.com/news/singapore/man-arrested-for-loansharking-activities-in-bukit-merah-9012624\n",
      "http://www.channelnewsasia.com/news/singapore/sbs-double-decker-bus-left-facing-wrong-direction-after-accident-9012758\n",
      "http://www.channelnewsasia.com/news/lifestyle/five-on-friday-5-fast-food-offerings-we-d-like-to-have-back-9008474\n",
      "http://www.channelnewsasia.com/news/singapore/joseph-schooling-confident-of-sterling-performance-at-sea-games-9012404\n",
      "http://www.channelnewsasia.com/news/business/long-time-eu-yan-sang-ceo-to-step-down-from-october-9012880\n",
      "http://www.channelnewsasia.com/news/singapore/68-suspected-drug-offenders-arrested-by-cnb-drugs-worth-more-9012562\n",
      "http://www.channelnewsasia.com/news/singapore/man-charged-for-molesting-woman-on-board-mrt-train-9012384\n",
      "http://www.channelnewsasia.com/news/singapore/tan-cheng-bock-s-constitutional-challenge-dismissed-by-high-9012246\n",
      "http://www.channelnewsasia.com/news/singapore/a-w-confirms-return-to-singapore-next-year-due-to-popular-demand-9012050\n",
      "http://www.channelnewsasia.com/news/lifestyle/justin-bieber-to-perform-in-singapore-in-october-9012082\n",
      "http://www.channelnewsasia.com/news/singapore/more-than-1-000-jobs-available-for-aspiring-early-childhood-9011566\n",
      "http://www.channelnewsasia.com/news/singapore/the-volunteer-lifeguards-of-pulau-ubin-we-won-t-give-up-until-9008948\n",
      "http://www.channelnewsasia.com/news/singapore/pm-lee-and-chinese-president-xi-affirm-bilateral-ties-9010628\n",
      "http://www.channelnewsasia.com/news/singapore/tan-cheng-bock-s-legal-challenge-on-the-reserved-presidential-9010250\n",
      "http://www.channelnewsasia.com/news/singapore/construction-company-and-employee-fined-after-concrete-slab-9010464\n",
      "http://www.channelnewsasia.com/news/singapore/singaporean-made-honorary-mbe-for-community-work-in-wales-9010442\n",
      "http://www.channelnewsasia.com/news/singapore/mother-s-jail-term-for-child-abuse-nearly-doubled-to-14-and-a-9010440\n",
      "http://www.channelnewsasia.com/news/singapore/pm-lee-shares-siblings-wish-not-to-carry-on-oxley-road-dispute-9009744\n",
      "http://www.channelnewsasia.com/news/singapore/ion-orchard-fined-s-15-000-over-customer-data-breach-9010072\n",
      "http://www.channelnewsasia.com/news/singapore/singapore-germany-to-embark-on-new-areas-of-cooperation-pm-lee-9009162\n"
     ]
    }
   ],
   "source": [
    "base_url = 'http://www.channelnewsasia.com'\n",
    "articles = []\n",
    "num_pages = 2\n",
    "for i in range(num_pages):\n",
    "    url = 'http://www.channelnewsasia.com/archives/8396078/news?pageNum={}&channelId=7469254'.format(i)\n",
    "    soup = getSoupLink(url)\n",
    "    for link in soup.find_all(\"div\", attrs={\"class\": \"c-result-section--default\"})[0].find_all(\"a\", attrs={\"class\":\"teaser__title\"}):\n",
    "        print(base_url + link.get(\"href\"))\n",
    "        soup = getSoupLink(base_url + link.get(\"href\"))\n",
    "        paras = soup.find_all(\"div\", attrs={\"class\":\"c-rte--article\"})[0].find_all(\"p\")\n",
    "        content = \" \".join([para.getText() for para in paras])\n",
    "        articles.append(content)\n",
    "        "
   ]
  },
  {
   "cell_type": "code",
   "execution_count": 231,
   "metadata": {},
   "outputs": [
    {
     "data": {
      "text/plain": [
       "20"
      ]
     },
     "execution_count": 231,
     "metadata": {},
     "output_type": "execute_result"
    }
   ],
   "source": [
    "len(articles)"
   ]
  },
  {
   "cell_type": "code",
   "execution_count": 232,
   "metadata": {},
   "outputs": [],
   "source": [
    "c = Counter()\n",
    "for i, article in enumerate(articles):\n",
    "    parsed_article = nlp(article)\n",
    "    c.update([ent.text for ent in parsed_article.ents if ent.label_ == \"PERSON\" or ent.label_ == \"ORG\"])"
   ]
  },
  {
   "cell_type": "code",
   "execution_count": 233,
   "metadata": {},
   "outputs": [
    {
     "name": "stdout",
     "output_type": "stream",
     "text": [
      "Counter({u'Parliament': 17, u'Dr Tan': 15, u'Lim': 12, u'AGC': 9, u'Wee': 8, u'Noraidah': 8, u'PM Lee': 7, u'Dr Tan\\u2019s': 7, u'Channel NewsAsia': 6, u'Noraidah\\u2019s': 6, u'Mr Lee': 5, u'EU': 5, u'KFC': 5, u'the High Court': 5, u'Airyl': 4, u'Wee Kim Wee': 4, u'Legislature': 4, u'Ms Ngiam': 4, u'Lee Hsien Loong': 3, u'Justice Loh': 3, u'PDPC': 3, u'Orchard Turn Developments': 3, u'Facebook': 3, u'MOM': 3, u'ASEAN': 3, u'\\u2019s Chambers': 3, u'Eu Yan Sang': 3, u'\\u2019s': 3, u'CNB': 3, u'MILO': 3, u'Airyl\\u2019s': 2, u'Angela Merkel': 2, u'Xi': 2, u'Chancellor Merkel': 2, u'Ms Shereen': 2, u'A&W': 2, u'Lee': 2, u'the Court of Appeal': 2, u\"PM Lee's\": 2, u'Sea Angel': 2, u'Merkel': 2, u'WhatsApp': 2, u'Ubin\\u2019s': 2, u'ECDA': 2, u'Group CEO': 2, u'Summit': 2, u'Wendy\\u2019s': 2, u'Mr Dewan': 2, u'Sim': 2, u'Meng': 2, u'Senior Counsel Chelva Retnam Rajah': 2, u'DAG Nair': 2, u'Deputy Attorney-General': 2, u'SBS Transit': 2, u'Mr Trump': 2, u'Wee\\u2019s': 2, u'MBE': 2, u'Mr\\xa0Bazner': 1, u'Nair': 1, u'the National Day': 1, u'the Presidential Elections Act': 1, u'Mediacorp': 1, u'Joseph Schooling': 1, u'Vladimir Putin': 1, u'the Chongqing Connectivity Initiative': 1, u'the Sports Hub': 1, u'G20': 1, u'Yio Chu Kang Road': 1, u'ION Orchard': 1, u'Mr Zhong': 1, u'ION': 1, u'the Ministry of Manpower': 1, u'Justin Bieber': 1, u'Dewan Md Ratul': 1, u'TAN': 1, u'SCDF': 1, u'Dr Lee': 1, u'Hsien Loong\\u2019s': 1, u'OUT OF': 1, u'The High Court': 1, u'First Skool': 1, u'MRT': 1, u'NTUC': 1, u'EUSFTA': 1, u'FINA World Championships': 1, u'Clementi': 1, u'Dr Merkel': 1, u'S$5,000': 1, u'the Ministry of Social and Family Development': 1, u'S$50,000': 1, u'Boey': 1, u'Dr Merkel\\u2019s': 1, u'the Health Promotion Board': 1, u'Tan Tock Seng Hospital': 1, u'Kevin Bazner': 1, u'VIP': 1, u'Gilbert Tan': 1, u'Skype': 1, u'Tan': 1, u'PM Lee pic.twitter.com/xxP4ixUep5': 1, u'Gao Siew Dai': 1, u'Mr Chan': 1, u'the Institute of Mental Health': 1, u'\\u2013': 1, u'the Federal Chancellery': 1, u'Clementi Police Division': 1, u'Yong Xing Construction': 1, u'TAN\\u2019S CHALLENGE': 1, u'\\u201d Lim': 1, u'Bedok Reservoir': 1, u'Zhong Jia Xiang': 1, u'LSD': 1, u'Lim\\u2019s': 1, u'the Constitutional Commission': 1, u'Bukit Panjang': 1, u'Obesity Prevention': 1, u'the Central Narcotics Bureau': 1, u'Burger King': 1, u\"CROISSAN'WICH\": 1, u'Steven Chong': 1, u'Defence Cooperation Agreement': 1, u'Buckingham Palace': 1, u'Mohammed': 1, u'CCTV': 1, u'Jurong West': 1, u'Ubin': 1, u'Bukit Batok': 1, u'Presidential Election': 1, u'Pulau Ubin': 1, u'Mittelstand': 1, u'TAN Dr': 1, u'the European Commission': 1, u'Ong\\u2019s': 1, u'Popeyes': 1, u'Donald Trump': 1, u'Justin Ong': 1, u'Gugu Mbatha-Raw': 1, u'PMO': 1, u'Schooling\\u2019s': 1, u'Chan': 1, u\"Wendy's\": 1, u'Kentucky Fried Chicken': 1, u'Mr Aaron Boey': 1, u'Ed Sheeran': 1, u'the Singapore Armed Forces': 1, u'Eu': 1, u'Richard Eu': 1, u'the Kuala Lumpur-Singapore High-Speed Rail': 1, u'TAN\\u2019S': 1, u'Brexit': 1, u'COURT': 1, u'Justice': 1, u'Loh': 1, u'Hri Kumar Nair': 1, u'Wee Singapore': 1, u'HPB': 1, u'Wee Kim': 1, u'Whopper Jr. Of': 1, u'Lee Hsien Yang': 1, u'fintech': 1, u'Shereen Williams': 1, u'Jun': 1, u'Paul Carter': 1, u'Kim Wee': 1, u'Dr Tan Cheng Bock\\u2019s': 1, u'Employability Institute': 1, u'Phillip Lim': 1, u'Xi Jinping': 1, u'Sea Angel\\u201d': 1, u'PARLIAMENT': 1, u'Bukit Merah': 1, u'the Order of': 1, u'National Stadium': 1, u'\\xa0Allied Infant Educarer': 1, u'Quentin Loh': 1, u'Road': 1, u\"Burger King's\": 1, u'Star Wars': 1, u'SBS': 1, u'Tan Chuan-Jin': 1, u'the Government of': 1, u'PARLIAMENT OR': 1, u'the Personal Data Protection Commission': 1, u'Ms Diana Ngiam': 1, u'the University of Texas': 1, u'Ong Teng': 1, u'HPB\\u2019s Management Division': 1, u'Colin': 1, u'Chai Chee': 1, u'The Singapore High Commission': 1, u'Team Singapore': 1, u'Belt': 1, u'the Global Governance Groups': 1, u'Ismaya': 1, u'Ms Joanna Chan': 1, u'The Singapore Civil Defence Force': 1, u'A&W Restaurants': 1, u'Ong Teng Cheong': 1, u'the Singapore Indoor Stadium': 1, u'Rigs': 1, u'Hollandaise': 1, u'The Tomato': 1, u'Welsh': 1, u'Tan Cheng Bock\\u2019s': 1, u'Levi Strauss': 1, u'ION Orchard - had': 1, u'Pasir Ris-bound': 1, u'e2i': 1, u'Purpose World Tour': 1, u'\\xa0 ': 1, u'\\xa0': 1, u'Ah Meng': 1, u'the Purpose VIP Lounge': 1, u'MY World': 1, u'a European Court of': 1, u'\\xa0Facebook': 1, u'Unusual Entertainment': 1, u'Noraidah Mohd Yussof': 1, u'S$29,375': 1, u'Teo Chee Hean': 1, u'Sim Teck Chye': 1, u'Dr Lee Wei Ling': 1, u'Chan Yew Kwong': 1, u'the Sausage McGriddles': 1, u'Sundaresh Menon': 1, u'Mohammed Sapan': 1, u'Blk 129 Bukit': 1})\n"
     ]
    }
   ],
   "source": [
    "print(c)"
   ]
  },
  {
   "cell_type": "code",
   "execution_count": 234,
   "metadata": {},
   "outputs": [
    {
     "data": {
      "text/plain": [
       "[(u'Parliament', 17),\n",
       " (u'Dr Tan', 15),\n",
       " (u'Lim', 12),\n",
       " (u'AGC', 9),\n",
       " (u'Wee', 8),\n",
       " (u'Noraidah', 8),\n",
       " (u'PM Lee', 7),\n",
       " (u'Dr Tan\\u2019s', 7),\n",
       " (u'Channel NewsAsia', 6),\n",
       " (u'Noraidah\\u2019s', 6),\n",
       " (u'Mr Lee', 5),\n",
       " (u'EU', 5),\n",
       " (u'KFC', 5),\n",
       " (u'the High Court', 5),\n",
       " (u'Airyl', 4),\n",
       " (u'Wee Kim Wee', 4),\n",
       " (u'Legislature', 4),\n",
       " (u'Ms Ngiam', 4),\n",
       " (u'Lee Hsien Loong', 3),\n",
       " (u'Justice Loh', 3)]"
      ]
     },
     "execution_count": 234,
     "metadata": {},
     "output_type": "execute_result"
    }
   ],
   "source": [
    "c.most_common(20)"
   ]
  }
 ],
 "metadata": {
  "anaconda-cloud": {},
  "kernelspec": {
   "display_name": "Python [python2]",
   "language": "python",
   "name": "Python [python2]"
  },
  "language_info": {
   "codemirror_mode": {
    "name": "ipython",
    "version": 2
   },
   "file_extension": ".py",
   "mimetype": "text/x-python",
   "name": "python",
   "nbconvert_exporter": "python",
   "pygments_lexer": "ipython2",
   "version": "2.7.13"
  }
 },
 "nbformat": 4,
 "nbformat_minor": 2
}
